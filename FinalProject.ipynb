{
 "cells": [
  {
   "cell_type": "code",
   "execution_count": 60,
   "metadata": {},
   "outputs": [],
   "source": [
    "import numpy as np\n",
    "import pandas as pd \n",
    "import matplotlib.pyplot as plt\n",
    "import seaborn as sns"
   ]
  },
  {
   "cell_type": "code",
   "execution_count": 61,
   "metadata": {},
   "outputs": [],
   "source": [
    "data = pd.read_csv(r'C:\\Users\\Pegah Khazaie\\Desktop\\master.csv')"
   ]
  },
  {
   "cell_type": "code",
   "execution_count": 62,
   "metadata": {},
   "outputs": [
    {
     "data": {
      "text/html": [
       "<div>\n",
       "<style scoped>\n",
       "    .dataframe tbody tr th:only-of-type {\n",
       "        vertical-align: middle;\n",
       "    }\n",
       "\n",
       "    .dataframe tbody tr th {\n",
       "        vertical-align: top;\n",
       "    }\n",
       "\n",
       "    .dataframe thead th {\n",
       "        text-align: right;\n",
       "    }\n",
       "</style>\n",
       "<table border=\"1\" class=\"dataframe\">\n",
       "  <thead>\n",
       "    <tr style=\"text-align: right;\">\n",
       "      <th></th>\n",
       "      <th>country</th>\n",
       "      <th>year</th>\n",
       "      <th>sex</th>\n",
       "      <th>age</th>\n",
       "      <th>suicides_no</th>\n",
       "      <th>population</th>\n",
       "      <th>suicides/100k pop</th>\n",
       "      <th>country-year</th>\n",
       "      <th>HDI for year</th>\n",
       "      <th>gdp_for_year ($)</th>\n",
       "      <th>gdp_per_capita ($)</th>\n",
       "      <th>generation</th>\n",
       "    </tr>\n",
       "  </thead>\n",
       "  <tbody>\n",
       "    <tr>\n",
       "      <th>0</th>\n",
       "      <td>Albania</td>\n",
       "      <td>1987</td>\n",
       "      <td>male</td>\n",
       "      <td>15-24 years</td>\n",
       "      <td>21</td>\n",
       "      <td>312900</td>\n",
       "      <td>6.71</td>\n",
       "      <td>Albania1987</td>\n",
       "      <td>NaN</td>\n",
       "      <td>2,156,624,900</td>\n",
       "      <td>796</td>\n",
       "      <td>Generation X</td>\n",
       "    </tr>\n",
       "    <tr>\n",
       "      <th>1</th>\n",
       "      <td>Albania</td>\n",
       "      <td>1987</td>\n",
       "      <td>male</td>\n",
       "      <td>35-54 years</td>\n",
       "      <td>16</td>\n",
       "      <td>308000</td>\n",
       "      <td>5.19</td>\n",
       "      <td>Albania1987</td>\n",
       "      <td>NaN</td>\n",
       "      <td>2,156,624,900</td>\n",
       "      <td>796</td>\n",
       "      <td>Silent</td>\n",
       "    </tr>\n",
       "    <tr>\n",
       "      <th>2</th>\n",
       "      <td>Albania</td>\n",
       "      <td>1987</td>\n",
       "      <td>female</td>\n",
       "      <td>15-24 years</td>\n",
       "      <td>14</td>\n",
       "      <td>289700</td>\n",
       "      <td>4.83</td>\n",
       "      <td>Albania1987</td>\n",
       "      <td>NaN</td>\n",
       "      <td>2,156,624,900</td>\n",
       "      <td>796</td>\n",
       "      <td>Generation X</td>\n",
       "    </tr>\n",
       "    <tr>\n",
       "      <th>3</th>\n",
       "      <td>Albania</td>\n",
       "      <td>1987</td>\n",
       "      <td>male</td>\n",
       "      <td>75+ years</td>\n",
       "      <td>1</td>\n",
       "      <td>21800</td>\n",
       "      <td>4.59</td>\n",
       "      <td>Albania1987</td>\n",
       "      <td>NaN</td>\n",
       "      <td>2,156,624,900</td>\n",
       "      <td>796</td>\n",
       "      <td>G.I. Generation</td>\n",
       "    </tr>\n",
       "    <tr>\n",
       "      <th>4</th>\n",
       "      <td>Albania</td>\n",
       "      <td>1987</td>\n",
       "      <td>male</td>\n",
       "      <td>25-34 years</td>\n",
       "      <td>9</td>\n",
       "      <td>274300</td>\n",
       "      <td>3.28</td>\n",
       "      <td>Albania1987</td>\n",
       "      <td>NaN</td>\n",
       "      <td>2,156,624,900</td>\n",
       "      <td>796</td>\n",
       "      <td>Boomers</td>\n",
       "    </tr>\n",
       "  </tbody>\n",
       "</table>\n",
       "</div>"
      ],
      "text/plain": [
       "   country  year     sex          age  suicides_no  population  \\\n",
       "0  Albania  1987    male  15-24 years           21      312900   \n",
       "1  Albania  1987    male  35-54 years           16      308000   \n",
       "2  Albania  1987  female  15-24 years           14      289700   \n",
       "3  Albania  1987    male    75+ years            1       21800   \n",
       "4  Albania  1987    male  25-34 years            9      274300   \n",
       "\n",
       "   suicides/100k pop country-year  HDI for year  gdp_for_year ($)   \\\n",
       "0               6.71  Albania1987           NaN      2,156,624,900   \n",
       "1               5.19  Albania1987           NaN      2,156,624,900   \n",
       "2               4.83  Albania1987           NaN      2,156,624,900   \n",
       "3               4.59  Albania1987           NaN      2,156,624,900   \n",
       "4               3.28  Albania1987           NaN      2,156,624,900   \n",
       "\n",
       "   gdp_per_capita ($)       generation  \n",
       "0                 796     Generation X  \n",
       "1                 796           Silent  \n",
       "2                 796     Generation X  \n",
       "3                 796  G.I. Generation  \n",
       "4                 796          Boomers  "
      ]
     },
     "execution_count": 62,
     "metadata": {},
     "output_type": "execute_result"
    }
   ],
   "source": [
    "data.head()"
   ]
  },
  {
   "cell_type": "markdown",
   "metadata": {},
   "source": [
    "## Data Cleaninig"
   ]
  },
  {
   "cell_type": "code",
   "execution_count": 63,
   "metadata": {},
   "outputs": [],
   "source": [
    "data = data.drop(columns='country-year') #Dropping country-year"
   ]
  },
  {
   "cell_type": "code",
   "execution_count": 64,
   "metadata": {},
   "outputs": [],
   "source": [
    "data.rename(columns={'suicides/100k pop':'suicides_K','HDI for year':'HDI',' gdp_for_year ($) ':'gdp_for_year','gdp_per_capita ($)':'gdp_per_capita'}, inplace=True)"
   ]
  },
  {
   "cell_type": "code",
   "execution_count": 65,
   "metadata": {},
   "outputs": [
    {
     "data": {
      "text/html": [
       "<div>\n",
       "<style scoped>\n",
       "    .dataframe tbody tr th:only-of-type {\n",
       "        vertical-align: middle;\n",
       "    }\n",
       "\n",
       "    .dataframe tbody tr th {\n",
       "        vertical-align: top;\n",
       "    }\n",
       "\n",
       "    .dataframe thead th {\n",
       "        text-align: right;\n",
       "    }\n",
       "</style>\n",
       "<table border=\"1\" class=\"dataframe\">\n",
       "  <thead>\n",
       "    <tr style=\"text-align: right;\">\n",
       "      <th></th>\n",
       "      <th>country</th>\n",
       "      <th>year</th>\n",
       "      <th>sex</th>\n",
       "      <th>age</th>\n",
       "      <th>suicides_no</th>\n",
       "      <th>population</th>\n",
       "      <th>suicides_K</th>\n",
       "      <th>HDI</th>\n",
       "      <th>gdp_for_year</th>\n",
       "      <th>gdp_per_capita</th>\n",
       "      <th>generation</th>\n",
       "    </tr>\n",
       "  </thead>\n",
       "  <tbody>\n",
       "    <tr>\n",
       "      <th>0</th>\n",
       "      <td>Albania</td>\n",
       "      <td>1987</td>\n",
       "      <td>male</td>\n",
       "      <td>15-24 years</td>\n",
       "      <td>21</td>\n",
       "      <td>312900</td>\n",
       "      <td>6.71</td>\n",
       "      <td>NaN</td>\n",
       "      <td>2,156,624,900</td>\n",
       "      <td>796</td>\n",
       "      <td>Generation X</td>\n",
       "    </tr>\n",
       "    <tr>\n",
       "      <th>1</th>\n",
       "      <td>Albania</td>\n",
       "      <td>1987</td>\n",
       "      <td>male</td>\n",
       "      <td>35-54 years</td>\n",
       "      <td>16</td>\n",
       "      <td>308000</td>\n",
       "      <td>5.19</td>\n",
       "      <td>NaN</td>\n",
       "      <td>2,156,624,900</td>\n",
       "      <td>796</td>\n",
       "      <td>Silent</td>\n",
       "    </tr>\n",
       "    <tr>\n",
       "      <th>2</th>\n",
       "      <td>Albania</td>\n",
       "      <td>1987</td>\n",
       "      <td>female</td>\n",
       "      <td>15-24 years</td>\n",
       "      <td>14</td>\n",
       "      <td>289700</td>\n",
       "      <td>4.83</td>\n",
       "      <td>NaN</td>\n",
       "      <td>2,156,624,900</td>\n",
       "      <td>796</td>\n",
       "      <td>Generation X</td>\n",
       "    </tr>\n",
       "    <tr>\n",
       "      <th>3</th>\n",
       "      <td>Albania</td>\n",
       "      <td>1987</td>\n",
       "      <td>male</td>\n",
       "      <td>75+ years</td>\n",
       "      <td>1</td>\n",
       "      <td>21800</td>\n",
       "      <td>4.59</td>\n",
       "      <td>NaN</td>\n",
       "      <td>2,156,624,900</td>\n",
       "      <td>796</td>\n",
       "      <td>G.I. Generation</td>\n",
       "    </tr>\n",
       "    <tr>\n",
       "      <th>4</th>\n",
       "      <td>Albania</td>\n",
       "      <td>1987</td>\n",
       "      <td>male</td>\n",
       "      <td>25-34 years</td>\n",
       "      <td>9</td>\n",
       "      <td>274300</td>\n",
       "      <td>3.28</td>\n",
       "      <td>NaN</td>\n",
       "      <td>2,156,624,900</td>\n",
       "      <td>796</td>\n",
       "      <td>Boomers</td>\n",
       "    </tr>\n",
       "  </tbody>\n",
       "</table>\n",
       "</div>"
      ],
      "text/plain": [
       "   country  year     sex          age  suicides_no  population  suicides_K  \\\n",
       "0  Albania  1987    male  15-24 years           21      312900        6.71   \n",
       "1  Albania  1987    male  35-54 years           16      308000        5.19   \n",
       "2  Albania  1987  female  15-24 years           14      289700        4.83   \n",
       "3  Albania  1987    male    75+ years            1       21800        4.59   \n",
       "4  Albania  1987    male  25-34 years            9      274300        3.28   \n",
       "\n",
       "   HDI   gdp_for_year  gdp_per_capita       generation  \n",
       "0  NaN  2,156,624,900             796     Generation X  \n",
       "1  NaN  2,156,624,900             796           Silent  \n",
       "2  NaN  2,156,624,900             796     Generation X  \n",
       "3  NaN  2,156,624,900             796  G.I. Generation  \n",
       "4  NaN  2,156,624,900             796          Boomers  "
      ]
     },
     "execution_count": 65,
     "metadata": {},
     "output_type": "execute_result"
    }
   ],
   "source": [
    "data.head()"
   ]
  },
  {
   "cell_type": "code",
   "execution_count": 66,
   "metadata": {},
   "outputs": [
    {
     "data": {
      "text/html": [
       "<div>\n",
       "<style scoped>\n",
       "    .dataframe tbody tr th:only-of-type {\n",
       "        vertical-align: middle;\n",
       "    }\n",
       "\n",
       "    .dataframe tbody tr th {\n",
       "        vertical-align: top;\n",
       "    }\n",
       "\n",
       "    .dataframe thead th {\n",
       "        text-align: right;\n",
       "    }\n",
       "</style>\n",
       "<table border=\"1\" class=\"dataframe\">\n",
       "  <thead>\n",
       "    <tr style=\"text-align: right;\">\n",
       "      <th></th>\n",
       "      <th>year</th>\n",
       "      <th>suicides_no</th>\n",
       "      <th>population</th>\n",
       "      <th>suicides_K</th>\n",
       "      <th>HDI</th>\n",
       "      <th>gdp_per_capita</th>\n",
       "    </tr>\n",
       "  </thead>\n",
       "  <tbody>\n",
       "    <tr>\n",
       "      <th>count</th>\n",
       "      <td>27820.000000</td>\n",
       "      <td>27820.000000</td>\n",
       "      <td>2.782000e+04</td>\n",
       "      <td>27820.000000</td>\n",
       "      <td>8364.000000</td>\n",
       "      <td>27820.000000</td>\n",
       "    </tr>\n",
       "    <tr>\n",
       "      <th>mean</th>\n",
       "      <td>2001.258375</td>\n",
       "      <td>242.574407</td>\n",
       "      <td>1.844794e+06</td>\n",
       "      <td>12.816097</td>\n",
       "      <td>0.776601</td>\n",
       "      <td>16866.464414</td>\n",
       "    </tr>\n",
       "    <tr>\n",
       "      <th>std</th>\n",
       "      <td>8.469055</td>\n",
       "      <td>902.047917</td>\n",
       "      <td>3.911779e+06</td>\n",
       "      <td>18.961511</td>\n",
       "      <td>0.093367</td>\n",
       "      <td>18887.576472</td>\n",
       "    </tr>\n",
       "    <tr>\n",
       "      <th>min</th>\n",
       "      <td>1985.000000</td>\n",
       "      <td>0.000000</td>\n",
       "      <td>2.780000e+02</td>\n",
       "      <td>0.000000</td>\n",
       "      <td>0.483000</td>\n",
       "      <td>251.000000</td>\n",
       "    </tr>\n",
       "    <tr>\n",
       "      <th>25%</th>\n",
       "      <td>1995.000000</td>\n",
       "      <td>3.000000</td>\n",
       "      <td>9.749850e+04</td>\n",
       "      <td>0.920000</td>\n",
       "      <td>0.713000</td>\n",
       "      <td>3447.000000</td>\n",
       "    </tr>\n",
       "    <tr>\n",
       "      <th>50%</th>\n",
       "      <td>2002.000000</td>\n",
       "      <td>25.000000</td>\n",
       "      <td>4.301500e+05</td>\n",
       "      <td>5.990000</td>\n",
       "      <td>0.779000</td>\n",
       "      <td>9372.000000</td>\n",
       "    </tr>\n",
       "    <tr>\n",
       "      <th>75%</th>\n",
       "      <td>2008.000000</td>\n",
       "      <td>131.000000</td>\n",
       "      <td>1.486143e+06</td>\n",
       "      <td>16.620000</td>\n",
       "      <td>0.855000</td>\n",
       "      <td>24874.000000</td>\n",
       "    </tr>\n",
       "    <tr>\n",
       "      <th>max</th>\n",
       "      <td>2016.000000</td>\n",
       "      <td>22338.000000</td>\n",
       "      <td>4.380521e+07</td>\n",
       "      <td>224.970000</td>\n",
       "      <td>0.944000</td>\n",
       "      <td>126352.000000</td>\n",
       "    </tr>\n",
       "  </tbody>\n",
       "</table>\n",
       "</div>"
      ],
      "text/plain": [
       "               year   suicides_no    population    suicides_K          HDI  \\\n",
       "count  27820.000000  27820.000000  2.782000e+04  27820.000000  8364.000000   \n",
       "mean    2001.258375    242.574407  1.844794e+06     12.816097     0.776601   \n",
       "std        8.469055    902.047917  3.911779e+06     18.961511     0.093367   \n",
       "min     1985.000000      0.000000  2.780000e+02      0.000000     0.483000   \n",
       "25%     1995.000000      3.000000  9.749850e+04      0.920000     0.713000   \n",
       "50%     2002.000000     25.000000  4.301500e+05      5.990000     0.779000   \n",
       "75%     2008.000000    131.000000  1.486143e+06     16.620000     0.855000   \n",
       "max     2016.000000  22338.000000  4.380521e+07    224.970000     0.944000   \n",
       "\n",
       "       gdp_per_capita  \n",
       "count    27820.000000  \n",
       "mean     16866.464414  \n",
       "std      18887.576472  \n",
       "min        251.000000  \n",
       "25%       3447.000000  \n",
       "50%       9372.000000  \n",
       "75%      24874.000000  \n",
       "max     126352.000000  "
      ]
     },
     "execution_count": 66,
     "metadata": {},
     "output_type": "execute_result"
    }
   ],
   "source": [
    "data.describe()"
   ]
  },
  {
   "cell_type": "code",
   "execution_count": 67,
   "metadata": {},
   "outputs": [
    {
     "data": {
      "text/plain": [
       "country               0\n",
       "year                  0\n",
       "sex                   0\n",
       "age                   0\n",
       "suicides_no           0\n",
       "population            0\n",
       "suicides_K            0\n",
       "HDI               19456\n",
       "gdp_for_year          0\n",
       "gdp_per_capita        0\n",
       "generation            0\n",
       "dtype: int64"
      ]
     },
     "execution_count": 67,
     "metadata": {},
     "output_type": "execute_result"
    }
   ],
   "source": [
    "data.isnull().sum()"
   ]
  },
  {
   "cell_type": "code",
   "execution_count": 68,
   "metadata": {},
   "outputs": [],
   "source": [
    "data['HDI'] = data['HDI'].fillna(data.HDI.mean()) #Replace missing values with mean of the values of HDI"
   ]
  },
  {
   "cell_type": "code",
   "execution_count": 69,
   "metadata": {},
   "outputs": [
    {
     "data": {
      "text/html": [
       "<div>\n",
       "<style scoped>\n",
       "    .dataframe tbody tr th:only-of-type {\n",
       "        vertical-align: middle;\n",
       "    }\n",
       "\n",
       "    .dataframe tbody tr th {\n",
       "        vertical-align: top;\n",
       "    }\n",
       "\n",
       "    .dataframe thead th {\n",
       "        text-align: right;\n",
       "    }\n",
       "</style>\n",
       "<table border=\"1\" class=\"dataframe\">\n",
       "  <thead>\n",
       "    <tr style=\"text-align: right;\">\n",
       "      <th></th>\n",
       "      <th>country</th>\n",
       "      <th>sex</th>\n",
       "      <th>age</th>\n",
       "      <th>gdp_for_year</th>\n",
       "      <th>generation</th>\n",
       "    </tr>\n",
       "  </thead>\n",
       "  <tbody>\n",
       "    <tr>\n",
       "      <th>count</th>\n",
       "      <td>27820</td>\n",
       "      <td>27820</td>\n",
       "      <td>27820</td>\n",
       "      <td>27820</td>\n",
       "      <td>27820</td>\n",
       "    </tr>\n",
       "    <tr>\n",
       "      <th>unique</th>\n",
       "      <td>101</td>\n",
       "      <td>2</td>\n",
       "      <td>6</td>\n",
       "      <td>2321</td>\n",
       "      <td>6</td>\n",
       "    </tr>\n",
       "    <tr>\n",
       "      <th>top</th>\n",
       "      <td>Mauritius</td>\n",
       "      <td>male</td>\n",
       "      <td>55-74 years</td>\n",
       "      <td>51,884,481,410</td>\n",
       "      <td>Generation X</td>\n",
       "    </tr>\n",
       "    <tr>\n",
       "      <th>freq</th>\n",
       "      <td>382</td>\n",
       "      <td>13910</td>\n",
       "      <td>4642</td>\n",
       "      <td>12</td>\n",
       "      <td>6408</td>\n",
       "    </tr>\n",
       "  </tbody>\n",
       "</table>\n",
       "</div>"
      ],
      "text/plain": [
       "          country    sex          age    gdp_for_year    generation\n",
       "count       27820  27820        27820           27820         27820\n",
       "unique        101      2            6            2321             6\n",
       "top     Mauritius   male  55-74 years  51,884,481,410  Generation X\n",
       "freq          382  13910         4642              12          6408"
      ]
     },
     "execution_count": 69,
     "metadata": {},
     "output_type": "execute_result"
    }
   ],
   "source": [
    "data.describe(include=['O']) #categorical features "
   ]
  },
  {
   "cell_type": "code",
   "execution_count": 70,
   "metadata": {},
   "outputs": [
    {
     "data": {
      "text/html": [
       "<div>\n",
       "<style scoped>\n",
       "    .dataframe tbody tr th:only-of-type {\n",
       "        vertical-align: middle;\n",
       "    }\n",
       "\n",
       "    .dataframe tbody tr th {\n",
       "        vertical-align: top;\n",
       "    }\n",
       "\n",
       "    .dataframe thead th {\n",
       "        text-align: right;\n",
       "    }\n",
       "</style>\n",
       "<table border=\"1\" class=\"dataframe\">\n",
       "  <thead>\n",
       "    <tr style=\"text-align: right;\">\n",
       "      <th></th>\n",
       "      <th>country</th>\n",
       "      <th>year</th>\n",
       "      <th>sex</th>\n",
       "      <th>age</th>\n",
       "      <th>suicides_no</th>\n",
       "      <th>population</th>\n",
       "      <th>suicides_K</th>\n",
       "      <th>HDI</th>\n",
       "      <th>gdp_for_year</th>\n",
       "      <th>gdp_per_capita</th>\n",
       "      <th>generation</th>\n",
       "    </tr>\n",
       "  </thead>\n",
       "  <tbody>\n",
       "    <tr>\n",
       "      <th>20996</th>\n",
       "      <td>Russian Federation</td>\n",
       "      <td>1994</td>\n",
       "      <td>male</td>\n",
       "      <td>35-54 years</td>\n",
       "      <td>22338</td>\n",
       "      <td>19044200</td>\n",
       "      <td>117.30</td>\n",
       "      <td>0.776601</td>\n",
       "      <td>395,077,301,248</td>\n",
       "      <td>2853</td>\n",
       "      <td>Boomers</td>\n",
       "    </tr>\n",
       "    <tr>\n",
       "      <th>21008</th>\n",
       "      <td>Russian Federation</td>\n",
       "      <td>1995</td>\n",
       "      <td>male</td>\n",
       "      <td>35-54 years</td>\n",
       "      <td>21706</td>\n",
       "      <td>19249600</td>\n",
       "      <td>112.76</td>\n",
       "      <td>0.776601</td>\n",
       "      <td>395,531,066,563</td>\n",
       "      <td>2844</td>\n",
       "      <td>Boomers</td>\n",
       "    </tr>\n",
       "    <tr>\n",
       "      <th>21080</th>\n",
       "      <td>Russian Federation</td>\n",
       "      <td>2001</td>\n",
       "      <td>male</td>\n",
       "      <td>35-54 years</td>\n",
       "      <td>21262</td>\n",
       "      <td>21476420</td>\n",
       "      <td>99.00</td>\n",
       "      <td>0.776601</td>\n",
       "      <td>306,602,673,980</td>\n",
       "      <td>2229</td>\n",
       "      <td>Boomers</td>\n",
       "    </tr>\n",
       "    <tr>\n",
       "      <th>21068</th>\n",
       "      <td>Russian Federation</td>\n",
       "      <td>2000</td>\n",
       "      <td>male</td>\n",
       "      <td>35-54 years</td>\n",
       "      <td>21063</td>\n",
       "      <td>21378098</td>\n",
       "      <td>98.53</td>\n",
       "      <td>0.776601</td>\n",
       "      <td>259,708,496,267</td>\n",
       "      <td>1879</td>\n",
       "      <td>Boomers</td>\n",
       "    </tr>\n",
       "    <tr>\n",
       "      <th>21057</th>\n",
       "      <td>Russian Federation</td>\n",
       "      <td>1999</td>\n",
       "      <td>male</td>\n",
       "      <td>35-54 years</td>\n",
       "      <td>20705</td>\n",
       "      <td>21016400</td>\n",
       "      <td>98.52</td>\n",
       "      <td>0.776601</td>\n",
       "      <td>195,905,767,669</td>\n",
       "      <td>1412</td>\n",
       "      <td>Boomers</td>\n",
       "    </tr>\n",
       "  </tbody>\n",
       "</table>\n",
       "</div>"
      ],
      "text/plain": [
       "                  country  year   sex          age  suicides_no  population  \\\n",
       "20996  Russian Federation  1994  male  35-54 years        22338    19044200   \n",
       "21008  Russian Federation  1995  male  35-54 years        21706    19249600   \n",
       "21080  Russian Federation  2001  male  35-54 years        21262    21476420   \n",
       "21068  Russian Federation  2000  male  35-54 years        21063    21378098   \n",
       "21057  Russian Federation  1999  male  35-54 years        20705    21016400   \n",
       "\n",
       "       suicides_K       HDI     gdp_for_year  gdp_per_capita generation  \n",
       "20996      117.30  0.776601  395,077,301,248            2853    Boomers  \n",
       "21008      112.76  0.776601  395,531,066,563            2844    Boomers  \n",
       "21080       99.00  0.776601  306,602,673,980            2229    Boomers  \n",
       "21068       98.53  0.776601  259,708,496,267            1879    Boomers  \n",
       "21057       98.52  0.776601  195,905,767,669            1412    Boomers  "
      ]
     },
     "execution_count": 70,
     "metadata": {},
     "output_type": "execute_result"
    }
   ],
   "source": [
    "data = data.sort_values(by=[\"suicides_no\",\"age\"], ascending=False)\n",
    "data.head()"
   ]
  },
  {
   "cell_type": "code",
   "execution_count": 71,
   "metadata": {},
   "outputs": [
    {
     "data": {
      "text/html": [
       "<div>\n",
       "<style scoped>\n",
       "    .dataframe tbody tr th:only-of-type {\n",
       "        vertical-align: middle;\n",
       "    }\n",
       "\n",
       "    .dataframe tbody tr th {\n",
       "        vertical-align: top;\n",
       "    }\n",
       "\n",
       "    .dataframe thead th {\n",
       "        text-align: right;\n",
       "    }\n",
       "</style>\n",
       "<table border=\"1\" class=\"dataframe\">\n",
       "  <thead>\n",
       "    <tr style=\"text-align: right;\">\n",
       "      <th></th>\n",
       "      <th>country</th>\n",
       "      <th>year</th>\n",
       "      <th>sex</th>\n",
       "      <th>age</th>\n",
       "      <th>suicides_no</th>\n",
       "      <th>population</th>\n",
       "      <th>suicides_K</th>\n",
       "      <th>HDI</th>\n",
       "      <th>gdp_for_year</th>\n",
       "      <th>gdp_per_capita</th>\n",
       "      <th>generation</th>\n",
       "    </tr>\n",
       "  </thead>\n",
       "  <tbody>\n",
       "    <tr>\n",
       "      <th>0</th>\n",
       "      <td>Russian Federation</td>\n",
       "      <td>1994</td>\n",
       "      <td>male</td>\n",
       "      <td>35-54 years</td>\n",
       "      <td>22338</td>\n",
       "      <td>19044200</td>\n",
       "      <td>117.30</td>\n",
       "      <td>0.776601</td>\n",
       "      <td>395,077,301,248</td>\n",
       "      <td>2853</td>\n",
       "      <td>Boomers</td>\n",
       "    </tr>\n",
       "    <tr>\n",
       "      <th>1</th>\n",
       "      <td>Russian Federation</td>\n",
       "      <td>1995</td>\n",
       "      <td>male</td>\n",
       "      <td>35-54 years</td>\n",
       "      <td>21706</td>\n",
       "      <td>19249600</td>\n",
       "      <td>112.76</td>\n",
       "      <td>0.776601</td>\n",
       "      <td>395,531,066,563</td>\n",
       "      <td>2844</td>\n",
       "      <td>Boomers</td>\n",
       "    </tr>\n",
       "    <tr>\n",
       "      <th>2</th>\n",
       "      <td>Russian Federation</td>\n",
       "      <td>2001</td>\n",
       "      <td>male</td>\n",
       "      <td>35-54 years</td>\n",
       "      <td>21262</td>\n",
       "      <td>21476420</td>\n",
       "      <td>99.00</td>\n",
       "      <td>0.776601</td>\n",
       "      <td>306,602,673,980</td>\n",
       "      <td>2229</td>\n",
       "      <td>Boomers</td>\n",
       "    </tr>\n",
       "    <tr>\n",
       "      <th>3</th>\n",
       "      <td>Russian Federation</td>\n",
       "      <td>2000</td>\n",
       "      <td>male</td>\n",
       "      <td>35-54 years</td>\n",
       "      <td>21063</td>\n",
       "      <td>21378098</td>\n",
       "      <td>98.53</td>\n",
       "      <td>0.776601</td>\n",
       "      <td>259,708,496,267</td>\n",
       "      <td>1879</td>\n",
       "      <td>Boomers</td>\n",
       "    </tr>\n",
       "    <tr>\n",
       "      <th>4</th>\n",
       "      <td>Russian Federation</td>\n",
       "      <td>1999</td>\n",
       "      <td>male</td>\n",
       "      <td>35-54 years</td>\n",
       "      <td>20705</td>\n",
       "      <td>21016400</td>\n",
       "      <td>98.52</td>\n",
       "      <td>0.776601</td>\n",
       "      <td>195,905,767,669</td>\n",
       "      <td>1412</td>\n",
       "      <td>Boomers</td>\n",
       "    </tr>\n",
       "  </tbody>\n",
       "</table>\n",
       "</div>"
      ],
      "text/plain": [
       "              country  year   sex          age  suicides_no  population  \\\n",
       "0  Russian Federation  1994  male  35-54 years        22338    19044200   \n",
       "1  Russian Federation  1995  male  35-54 years        21706    19249600   \n",
       "2  Russian Federation  2001  male  35-54 years        21262    21476420   \n",
       "3  Russian Federation  2000  male  35-54 years        21063    21378098   \n",
       "4  Russian Federation  1999  male  35-54 years        20705    21016400   \n",
       "\n",
       "   suicides_K       HDI     gdp_for_year  gdp_per_capita generation  \n",
       "0      117.30  0.776601  395,077,301,248            2853    Boomers  \n",
       "1      112.76  0.776601  395,531,066,563            2844    Boomers  \n",
       "2       99.00  0.776601  306,602,673,980            2229    Boomers  \n",
       "3       98.53  0.776601  259,708,496,267            1879    Boomers  \n",
       "4       98.52  0.776601  195,905,767,669            1412    Boomers  "
      ]
     },
     "execution_count": 71,
     "metadata": {},
     "output_type": "execute_result"
    }
   ],
   "source": [
    "data.reset_index(inplace=True,drop=True)\n",
    "data.head()"
   ]
  },
  {
   "cell_type": "markdown",
   "metadata": {},
   "source": [
    "## Visualization"
   ]
  },
  {
   "cell_type": "code",
   "execution_count": 72,
   "metadata": {},
   "outputs": [
    {
     "data": {
      "image/png": "[encoded data removed]",
      "text/plain": [
       "<Figure size 1080x504 with 1 Axes>"
      ]
     },
     "metadata": {},
     "output_type": "display_data"
    }
   ],
   "source": [
    "data_grp = data.groupby('sex').agg({\"suicides_no\": ['sum']})\n",
    "data_grp.columns = ['total_suicide']\n",
    "data_grp.reset_index(inplace=True)\n",
    "fig, ax = plt.subplots(figsize=(15, 7))\n",
    "plt.pie(data_grp['total_suicide'], labels=data_grp['sex'], autopct='%1.1f%%', startangle=90, colors=['#fd5235', '#636efa'])\n",
    "ax.axis('equal')\n",
    "plt.figtext(.5,.91,'Worldwide Suicide by Gender (1985 - 2015)', color='b', fontsize=25, ha='center')\n",
    "plt.show()"
   ]
  },
  {
   "cell_type": "code",
   "execution_count": 73,
   "metadata": {},
   "outputs": [
    {
     "data": {
      "text/plain": [
       "<matplotlib.axes._subplots.AxesSubplot at 0x1a4a1b2c308>"
      ]
     },
     "execution_count": 73,
     "metadata": {},
     "output_type": "execute_result"
    },
    {
     "data": {
      "image/png": "[encoded data removed]",
      "text/plain": [
       "<Figure size 432x288 with 1 Axes>"
      ]
     },
     "metadata": {
      "needs_background": "light"
     },
     "output_type": "display_data"
    }
   ],
   "source": [
    "data.groupby('age')[['age','suicides_no']].sum().sort_values(by='suicides_no', ascending=False).plot(kind='bar')"
   ]
  },
  {
   "cell_type": "code",
   "execution_count": 74,
   "metadata": {},
   "outputs": [
    {
     "data": {
      "text/plain": [
       "Text(0.5, 1.0, 'Age vs Suicides')"
      ]
     },
     "execution_count": 74,
     "metadata": {},
     "output_type": "execute_result"
    },
    {
     "data": {
      "image/png": "[encoded data removed]",
      "text/plain": [
       "<Figure size 720x360 with 1 Axes>"
      ]
     },
     "metadata": {
      "needs_background": "light"
     },
     "output_type": "display_data"
    }
   ],
   "source": [
    "plt.figure(figsize=(10,5))\n",
    "sns.barplot(x = 'age', y='suicides_no', hue='sex', data=data.groupby([\"age\",\"sex\"]).sum().reset_index()).set_title('Age vs Suicides')\n",
    "# plt.xticks(rotation=90)"
   ]
  },
  {
   "cell_type": "code",
   "execution_count": 75,
   "metadata": {},
   "outputs": [
    {
     "data": {
      "text/html": [
       "<style  type=\"text/css\" >\n",
       "    #T_182c893a_ce03_11ea_921e_00bb60658bferow0_col1 {\n",
       "            background-color:  #3f007d;\n",
       "            color:  #f1f1f1;\n",
       "        }    #T_182c893a_ce03_11ea_921e_00bb60658bferow1_col1 {\n",
       "            background-color:  #63439c;\n",
       "            color:  #f1f1f1;\n",
       "        }    #T_182c893a_ce03_11ea_921e_00bb60658bferow2_col1 {\n",
       "            background-color:  #b0afd4;\n",
       "            color:  #000000;\n",
       "        }    #T_182c893a_ce03_11ea_921e_00bb60658bferow3_col1 {\n",
       "            background-color:  #e4e3f0;\n",
       "            color:  #000000;\n",
       "        }    #T_182c893a_ce03_11ea_921e_00bb60658bferow4_col1 {\n",
       "            background-color:  #e7e6f1;\n",
       "            color:  #000000;\n",
       "        }    #T_182c893a_ce03_11ea_921e_00bb60658bferow5_col1 {\n",
       "            background-color:  #e9e8f2;\n",
       "            color:  #000000;\n",
       "        }    #T_182c893a_ce03_11ea_921e_00bb60658bferow6_col1 {\n",
       "            background-color:  #ecebf4;\n",
       "            color:  #000000;\n",
       "        }    #T_182c893a_ce03_11ea_921e_00bb60658bferow7_col1 {\n",
       "            background-color:  #efedf5;\n",
       "            color:  #000000;\n",
       "        }    #T_182c893a_ce03_11ea_921e_00bb60658bferow8_col1 {\n",
       "            background-color:  #f1eff6;\n",
       "            color:  #000000;\n",
       "        }    #T_182c893a_ce03_11ea_921e_00bb60658bferow9_col1 {\n",
       "            background-color:  #f2f0f7;\n",
       "            color:  #000000;\n",
       "        }    #T_182c893a_ce03_11ea_921e_00bb60658bferow10_col1 {\n",
       "            background-color:  #f3f2f8;\n",
       "            color:  #000000;\n",
       "        }    #T_182c893a_ce03_11ea_921e_00bb60658bferow11_col1 {\n",
       "            background-color:  #f4f3f8;\n",
       "            color:  #000000;\n",
       "        }    #T_182c893a_ce03_11ea_921e_00bb60658bferow12_col1 {\n",
       "            background-color:  #f5f3f8;\n",
       "            color:  #000000;\n",
       "        }    #T_182c893a_ce03_11ea_921e_00bb60658bferow13_col1 {\n",
       "            background-color:  #f5f4f9;\n",
       "            color:  #000000;\n",
       "        }    #T_182c893a_ce03_11ea_921e_00bb60658bferow14_col1 {\n",
       "            background-color:  #f5f4f9;\n",
       "            color:  #000000;\n",
       "        }    #T_182c893a_ce03_11ea_921e_00bb60658bferow15_col1 {\n",
       "            background-color:  #f6f5f9;\n",
       "            color:  #000000;\n",
       "        }    #T_182c893a_ce03_11ea_921e_00bb60658bferow16_col1 {\n",
       "            background-color:  #f7f5fa;\n",
       "            color:  #000000;\n",
       "        }    #T_182c893a_ce03_11ea_921e_00bb60658bferow17_col1 {\n",
       "            background-color:  #f7f6fa;\n",
       "            color:  #000000;\n",
       "        }    #T_182c893a_ce03_11ea_921e_00bb60658bferow18_col1 {\n",
       "            background-color:  #f9f7fb;\n",
       "            color:  #000000;\n",
       "        }    #T_182c893a_ce03_11ea_921e_00bb60658bferow19_col1 {\n",
       "            background-color:  #f9f7fb;\n",
       "            color:  #000000;\n",
       "        }    #T_182c893a_ce03_11ea_921e_00bb60658bferow20_col1 {\n",
       "            background-color:  #faf9fc;\n",
       "            color:  #000000;\n",
       "        }    #T_182c893a_ce03_11ea_921e_00bb60658bferow21_col1 {\n",
       "            background-color:  #fbfafc;\n",
       "            color:  #000000;\n",
       "        }    #T_182c893a_ce03_11ea_921e_00bb60658bferow22_col1 {\n",
       "            background-color:  #fbfafc;\n",
       "            color:  #000000;\n",
       "        }    #T_182c893a_ce03_11ea_921e_00bb60658bferow23_col1 {\n",
       "            background-color:  #fbfafc;\n",
       "            color:  #000000;\n",
       "        }    #T_182c893a_ce03_11ea_921e_00bb60658bferow24_col1 {\n",
       "            background-color:  #fbfafc;\n",
       "            color:  #000000;\n",
       "        }    #T_182c893a_ce03_11ea_921e_00bb60658bferow25_col1 {\n",
       "            background-color:  #fbfafc;\n",
       "            color:  #000000;\n",
       "        }    #T_182c893a_ce03_11ea_921e_00bb60658bferow26_col1 {\n",
       "            background-color:  #fbfafc;\n",
       "            color:  #000000;\n",
       "        }    #T_182c893a_ce03_11ea_921e_00bb60658bferow27_col1 {\n",
       "            background-color:  #fbfafc;\n",
       "            color:  #000000;\n",
       "        }    #T_182c893a_ce03_11ea_921e_00bb60658bferow28_col1 {\n",
       "            background-color:  #fbfafc;\n",
       "            color:  #000000;\n",
       "        }    #T_182c893a_ce03_11ea_921e_00bb60658bferow29_col1 {\n",
       "            background-color:  #fcfbfd;\n",
       "            color:  #000000;\n",
       "        }    #T_182c893a_ce03_11ea_921e_00bb60658bferow30_col1 {\n",
       "            background-color:  #fcfbfd;\n",
       "            color:  #000000;\n",
       "        }    #T_182c893a_ce03_11ea_921e_00bb60658bferow31_col1 {\n",
       "            background-color:  #fcfbfd;\n",
       "            color:  #000000;\n",
       "        }    #T_182c893a_ce03_11ea_921e_00bb60658bferow32_col1 {\n",
       "            background-color:  #fcfbfd;\n",
       "            color:  #000000;\n",
       "        }    #T_182c893a_ce03_11ea_921e_00bb60658bferow33_col1 {\n",
       "            background-color:  #fcfbfd;\n",
       "            color:  #000000;\n",
       "        }    #T_182c893a_ce03_11ea_921e_00bb60658bferow34_col1 {\n",
       "            background-color:  #fcfbfd;\n",
       "            color:  #000000;\n",
       "        }    #T_182c893a_ce03_11ea_921e_00bb60658bferow35_col1 {\n",
       "            background-color:  #fcfbfd;\n",
       "            color:  #000000;\n",
       "        }    #T_182c893a_ce03_11ea_921e_00bb60658bferow36_col1 {\n",
       "            background-color:  #fcfbfd;\n",
       "            color:  #000000;\n",
       "        }    #T_182c893a_ce03_11ea_921e_00bb60658bferow37_col1 {\n",
       "            background-color:  #fcfbfd;\n",
       "            color:  #000000;\n",
       "        }    #T_182c893a_ce03_11ea_921e_00bb60658bferow38_col1 {\n",
       "            background-color:  #fcfbfd;\n",
       "            color:  #000000;\n",
       "        }    #T_182c893a_ce03_11ea_921e_00bb60658bferow39_col1 {\n",
       "            background-color:  #fcfbfd;\n",
       "            color:  #000000;\n",
       "        }    #T_182c893a_ce03_11ea_921e_00bb60658bferow40_col1 {\n",
       "            background-color:  #fcfbfd;\n",
       "            color:  #000000;\n",
       "        }    #T_182c893a_ce03_11ea_921e_00bb60658bferow41_col1 {\n",
       "            background-color:  #fcfbfd;\n",
       "            color:  #000000;\n",
       "        }    #T_182c893a_ce03_11ea_921e_00bb60658bferow42_col1 {\n",
       "            background-color:  #fcfbfd;\n",
       "            color:  #000000;\n",
       "        }    #T_182c893a_ce03_11ea_921e_00bb60658bferow43_col1 {\n",
       "            background-color:  #fcfbfd;\n",
       "            color:  #000000;\n",
       "        }    #T_182c893a_ce03_11ea_921e_00bb60658bferow44_col1 {\n",
       "            background-color:  #fcfbfd;\n",
       "            color:  #000000;\n",
       "        }    #T_182c893a_ce03_11ea_921e_00bb60658bferow45_col1 {\n",
       "            background-color:  #fcfbfd;\n",
       "            color:  #000000;\n",
       "        }    #T_182c893a_ce03_11ea_921e_00bb60658bferow46_col1 {\n",
       "            background-color:  #fcfbfd;\n",
       "            color:  #000000;\n",
       "        }    #T_182c893a_ce03_11ea_921e_00bb60658bferow47_col1 {\n",
       "            background-color:  #fcfbfd;\n",
       "            color:  #000000;\n",
       "        }</style><table id=\"T_182c893a_ce03_11ea_921e_00bb60658bfe\" ><thead>    <tr>        <th class=\"blank level0\" ></th>        <th class=\"col_heading level0 col0\" >country</th>        <th class=\"col_heading level0 col1\" >suicides_no</th>    </tr></thead><tbody>\n",
       "                <tr>\n",
       "                        <th id=\"T_182c893a_ce03_11ea_921e_00bb60658bfelevel0_row0\" class=\"row_heading level0 row0\" >46</th>\n",
       "                        <td id=\"T_182c893a_ce03_11ea_921e_00bb60658bferow0_col0\" class=\"data row0 col0\" >United States</td>\n",
       "                        <td id=\"T_182c893a_ce03_11ea_921e_00bb60658bferow0_col1\" class=\"data row0 col1\" >29446</td>\n",
       "            </tr>\n",
       "            <tr>\n",
       "                        <th id=\"T_182c893a_ce03_11ea_921e_00bb60658bfelevel0_row1\" class=\"row_heading level0 row1\" >24</th>\n",
       "                        <td id=\"T_182c893a_ce03_11ea_921e_00bb60658bferow1_col0\" class=\"data row1 col0\" >Japan</td>\n",
       "                        <td id=\"T_182c893a_ce03_11ea_921e_00bb60658bferow1_col1\" class=\"data row1 col1\" >23257</td>\n",
       "            </tr>\n",
       "            <tr>\n",
       "                        <th id=\"T_182c893a_ce03_11ea_921e_00bb60658bfelevel0_row2\" class=\"row_heading level0 row2\" >16</th>\n",
       "                        <td id=\"T_182c893a_ce03_11ea_921e_00bb60658bferow2_col0\" class=\"data row2 col0\" >France</td>\n",
       "                        <td id=\"T_182c893a_ce03_11ea_921e_00bb60658bferow2_col1\" class=\"data row2 col1\" >12501</td>\n",
       "            </tr>\n",
       "            <tr>\n",
       "                        <th id=\"T_182c893a_ce03_11ea_921e_00bb60658bfelevel0_row3\" class=\"row_heading level0 row3\" >41</th>\n",
       "                        <td id=\"T_182c893a_ce03_11ea_921e_00bb60658bferow3_col0\" class=\"data row3 col0\" >Sri Lanka</td>\n",
       "                        <td id=\"T_182c893a_ce03_11ea_921e_00bb60658bferow3_col1\" class=\"data row3 col1\" >5668</td>\n",
       "            </tr>\n",
       "            <tr>\n",
       "                        <th id=\"T_182c893a_ce03_11ea_921e_00bb60658bfelevel0_row4\" class=\"row_heading level0 row4\" >45</th>\n",
       "                        <td id=\"T_182c893a_ce03_11ea_921e_00bb60658bferow4_col0\" class=\"data row4 col0\" >United Kingdom</td>\n",
       "                        <td id=\"T_182c893a_ce03_11ea_921e_00bb60658bferow4_col1\" class=\"data row4 col1\" >5105</td>\n",
       "            </tr>\n",
       "            <tr>\n",
       "                        <th id=\"T_182c893a_ce03_11ea_921e_00bb60658bfelevel0_row5\" class=\"row_heading level0 row5\" >22</th>\n",
       "                        <td id=\"T_182c893a_ce03_11ea_921e_00bb60658bferow5_col0\" class=\"data row5 col0\" >Italy</td>\n",
       "                        <td id=\"T_182c893a_ce03_11ea_921e_00bb60658bferow5_col1\" class=\"data row5 col1\" >4759</td>\n",
       "            </tr>\n",
       "            <tr>\n",
       "                        <th id=\"T_182c893a_ce03_11ea_921e_00bb60658bfelevel0_row6\" class=\"row_heading level0 row6\" >8</th>\n",
       "                        <td id=\"T_182c893a_ce03_11ea_921e_00bb60658bferow6_col0\" class=\"data row6 col0\" >Brazil</td>\n",
       "                        <td id=\"T_182c893a_ce03_11ea_921e_00bb60658bferow6_col1\" class=\"data row6 col1\" >4228</td>\n",
       "            </tr>\n",
       "            <tr>\n",
       "                        <th id=\"T_182c893a_ce03_11ea_921e_00bb60658bfelevel0_row7\" class=\"row_heading level0 row7\" >36</th>\n",
       "                        <td id=\"T_182c893a_ce03_11ea_921e_00bb60658bferow7_col0\" class=\"data row7 col0\" >Republic of Korea</td>\n",
       "                        <td id=\"T_182c893a_ce03_11ea_921e_00bb60658bferow7_col1\" class=\"data row7 col1\" >3689</td>\n",
       "            </tr>\n",
       "            <tr>\n",
       "                        <th id=\"T_182c893a_ce03_11ea_921e_00bb60658bfelevel0_row8\" class=\"row_heading level0 row8\" >10</th>\n",
       "                        <td id=\"T_182c893a_ce03_11ea_921e_00bb60658bferow8_col0\" class=\"data row8 col0\" >Canada</td>\n",
       "                        <td id=\"T_182c893a_ce03_11ea_921e_00bb60658bferow8_col1\" class=\"data row8 col1\" >3258</td>\n",
       "            </tr>\n",
       "            <tr>\n",
       "                        <th id=\"T_182c893a_ce03_11ea_921e_00bb60658bfelevel0_row9\" class=\"row_heading level0 row9\" >43</th>\n",
       "                        <td id=\"T_182c893a_ce03_11ea_921e_00bb60658bferow9_col0\" class=\"data row9 col0\" >Thailand</td>\n",
       "                        <td id=\"T_182c893a_ce03_11ea_921e_00bb60658bferow9_col1\" class=\"data row9 col1\" >2982</td>\n",
       "            </tr>\n",
       "            <tr>\n",
       "                        <th id=\"T_182c893a_ce03_11ea_921e_00bb60658bfelevel0_row10\" class=\"row_heading level0 row10\" >40</th>\n",
       "                        <td id=\"T_182c893a_ce03_11ea_921e_00bb60658bferow10_col0\" class=\"data row10 col0\" >Spain</td>\n",
       "                        <td id=\"T_182c893a_ce03_11ea_921e_00bb60658bferow10_col1\" class=\"data row10 col1\" >2514</td>\n",
       "            </tr>\n",
       "            <tr>\n",
       "                        <th id=\"T_182c893a_ce03_11ea_921e_00bb60658bfelevel0_row11\" class=\"row_heading level0 row11\" >7</th>\n",
       "                        <td id=\"T_182c893a_ce03_11ea_921e_00bb60658bferow11_col0\" class=\"data row11 col0\" >Belgium</td>\n",
       "                        <td id=\"T_182c893a_ce03_11ea_921e_00bb60658bferow11_col1\" class=\"data row11 col1\" >2281</td>\n",
       "            </tr>\n",
       "            <tr>\n",
       "                        <th id=\"T_182c893a_ce03_11ea_921e_00bb60658bfelevel0_row12\" class=\"row_heading level0 row12\" >3</th>\n",
       "                        <td id=\"T_182c893a_ce03_11ea_921e_00bb60658bferow12_col0\" class=\"data row12 col0\" >Austria</td>\n",
       "                        <td id=\"T_182c893a_ce03_11ea_921e_00bb60658bferow12_col1\" class=\"data row12 col1\" >2091</td>\n",
       "            </tr>\n",
       "            <tr>\n",
       "                        <th id=\"T_182c893a_ce03_11ea_921e_00bb60658bfelevel0_row13\" class=\"row_heading level0 row13\" >1</th>\n",
       "                        <td id=\"T_182c893a_ce03_11ea_921e_00bb60658bferow13_col0\" class=\"data row13 col0\" >Argentina</td>\n",
       "                        <td id=\"T_182c893a_ce03_11ea_921e_00bb60658bferow13_col1\" class=\"data row13 col1\" >1988</td>\n",
       "            </tr>\n",
       "            <tr>\n",
       "                        <th id=\"T_182c893a_ce03_11ea_921e_00bb60658bfelevel0_row14\" class=\"row_heading level0 row14\" >2</th>\n",
       "                        <td id=\"T_182c893a_ce03_11ea_921e_00bb60658bferow14_col0\" class=\"data row14 col0\" >Australia</td>\n",
       "                        <td id=\"T_182c893a_ce03_11ea_921e_00bb60658bferow14_col1\" class=\"data row14 col1\" >1861</td>\n",
       "            </tr>\n",
       "            <tr>\n",
       "                        <th id=\"T_182c893a_ce03_11ea_921e_00bb60658bfelevel0_row15\" class=\"row_heading level0 row15\" >30</th>\n",
       "                        <td id=\"T_182c893a_ce03_11ea_921e_00bb60658bferow15_col0\" class=\"data row15 col0\" >Netherlands</td>\n",
       "                        <td id=\"T_182c893a_ce03_11ea_921e_00bb60658bferow15_col1\" class=\"data row15 col1\" >1638</td>\n",
       "            </tr>\n",
       "            <tr>\n",
       "                        <th id=\"T_182c893a_ce03_11ea_921e_00bb60658bfelevel0_row16\" class=\"row_heading level0 row16\" >29</th>\n",
       "                        <td id=\"T_182c893a_ce03_11ea_921e_00bb60658bferow16_col0\" class=\"data row16 col0\" >Mexico</td>\n",
       "                        <td id=\"T_182c893a_ce03_11ea_921e_00bb60658bferow16_col1\" class=\"data row16 col1\" >1544</td>\n",
       "            </tr>\n",
       "            <tr>\n",
       "                        <th id=\"T_182c893a_ce03_11ea_921e_00bb60658bfelevel0_row17\" class=\"row_heading level0 row17\" >9</th>\n",
       "                        <td id=\"T_182c893a_ce03_11ea_921e_00bb60658bferow17_col0\" class=\"data row17 col0\" >Bulgaria</td>\n",
       "                        <td id=\"T_182c893a_ce03_11ea_921e_00bb60658bferow17_col1\" class=\"data row17 col1\" >1456</td>\n",
       "            </tr>\n",
       "            <tr>\n",
       "                        <th id=\"T_182c893a_ce03_11ea_921e_00bb60658bfelevel0_row18\" class=\"row_heading level0 row18\" >12</th>\n",
       "                        <td id=\"T_182c893a_ce03_11ea_921e_00bb60658bferow18_col0\" class=\"data row18 col0\" >Colombia</td>\n",
       "                        <td id=\"T_182c893a_ce03_11ea_921e_00bb60658bferow18_col1\" class=\"data row18 col1\" >1001</td>\n",
       "            </tr>\n",
       "            <tr>\n",
       "                        <th id=\"T_182c893a_ce03_11ea_921e_00bb60658bfelevel0_row19\" class=\"row_heading level0 row19\" >34</th>\n",
       "                        <td id=\"T_182c893a_ce03_11ea_921e_00bb60658bferow19_col0\" class=\"data row19 col0\" >Portugal</td>\n",
       "                        <td id=\"T_182c893a_ce03_11ea_921e_00bb60658bferow19_col1\" class=\"data row19 col1\" >983</td>\n",
       "            </tr>\n",
       "            <tr>\n",
       "                        <th id=\"T_182c893a_ce03_11ea_921e_00bb60658bfelevel0_row20\" class=\"row_heading level0 row20\" >11</th>\n",
       "                        <td id=\"T_182c893a_ce03_11ea_921e_00bb60658bferow20_col0\" class=\"data row20 col0\" >Chile</td>\n",
       "                        <td id=\"T_182c893a_ce03_11ea_921e_00bb60658bferow20_col1\" class=\"data row20 col1\" >683</td>\n",
       "            </tr>\n",
       "            <tr>\n",
       "                        <th id=\"T_182c893a_ce03_11ea_921e_00bb60658bfelevel0_row21\" class=\"row_heading level0 row21\" >17</th>\n",
       "                        <td id=\"T_182c893a_ce03_11ea_921e_00bb60658bferow21_col0\" class=\"data row21 col0\" >Greece</td>\n",
       "                        <td id=\"T_182c893a_ce03_11ea_921e_00bb60658bferow21_col1\" class=\"data row21 col1\" >405</td>\n",
       "            </tr>\n",
       "            <tr>\n",
       "                        <th id=\"T_182c893a_ce03_11ea_921e_00bb60658bfelevel0_row22\" class=\"row_heading level0 row22\" >15</th>\n",
       "                        <td id=\"T_182c893a_ce03_11ea_921e_00bb60658bferow22_col0\" class=\"data row22 col0\" >Ecuador</td>\n",
       "                        <td id=\"T_182c893a_ce03_11ea_921e_00bb60658bferow22_col1\" class=\"data row22 col1\" >393</td>\n",
       "            </tr>\n",
       "            <tr>\n",
       "                        <th id=\"T_182c893a_ce03_11ea_921e_00bb60658bfelevel0_row23\" class=\"row_heading level0 row23\" >31</th>\n",
       "                        <td id=\"T_182c893a_ce03_11ea_921e_00bb60658bferow23_col0\" class=\"data row23 col0\" >New Zealand</td>\n",
       "                        <td id=\"T_182c893a_ce03_11ea_921e_00bb60658bferow23_col1\" class=\"data row23 col1\" >338</td>\n",
       "            </tr>\n",
       "            <tr>\n",
       "                        <th id=\"T_182c893a_ce03_11ea_921e_00bb60658bfelevel0_row24\" class=\"row_heading level0 row24\" >39</th>\n",
       "                        <td id=\"T_182c893a_ce03_11ea_921e_00bb60658bferow24_col0\" class=\"data row24 col0\" >Singapore</td>\n",
       "                        <td id=\"T_182c893a_ce03_11ea_921e_00bb60658bferow24_col1\" class=\"data row24 col1\" >324</td>\n",
       "            </tr>\n",
       "            <tr>\n",
       "                        <th id=\"T_182c893a_ce03_11ea_921e_00bb60658bfelevel0_row25\" class=\"row_heading level0 row25\" >47</th>\n",
       "                        <td id=\"T_182c893a_ce03_11ea_921e_00bb60658bferow25_col0\" class=\"data row25 col0\" >Uruguay</td>\n",
       "                        <td id=\"T_182c893a_ce03_11ea_921e_00bb60658bferow25_col1\" class=\"data row25 col1\" >287</td>\n",
       "            </tr>\n",
       "            <tr>\n",
       "                        <th id=\"T_182c893a_ce03_11ea_921e_00bb60658bfelevel0_row26\" class=\"row_heading level0 row26\" >20</th>\n",
       "                        <td id=\"T_182c893a_ce03_11ea_921e_00bb60658bferow26_col0\" class=\"data row26 col0\" >Ireland</td>\n",
       "                        <td id=\"T_182c893a_ce03_11ea_921e_00bb60658bferow26_col1\" class=\"data row26 col1\" >276</td>\n",
       "            </tr>\n",
       "            <tr>\n",
       "                        <th id=\"T_182c893a_ce03_11ea_921e_00bb60658bfelevel0_row27\" class=\"row_heading level0 row27\" >35</th>\n",
       "                        <td id=\"T_182c893a_ce03_11ea_921e_00bb60658bferow27_col0\" class=\"data row27 col0\" >Puerto Rico</td>\n",
       "                        <td id=\"T_182c893a_ce03_11ea_921e_00bb60658bferow27_col1\" class=\"data row27 col1\" >269</td>\n",
       "            </tr>\n",
       "            <tr>\n",
       "                        <th id=\"T_182c893a_ce03_11ea_921e_00bb60658bfelevel0_row28\" class=\"row_heading level0 row28\" >21</th>\n",
       "                        <td id=\"T_182c893a_ce03_11ea_921e_00bb60658bferow28_col0\" class=\"data row28 col0\" >Israel</td>\n",
       "                        <td id=\"T_182c893a_ce03_11ea_921e_00bb60658bferow28_col1\" class=\"data row28 col1\" >234</td>\n",
       "            </tr>\n",
       "            <tr>\n",
       "                        <th id=\"T_182c893a_ce03_11ea_921e_00bb60658bfelevel0_row29\" class=\"row_heading level0 row29\" >13</th>\n",
       "                        <td id=\"T_182c893a_ce03_11ea_921e_00bb60658bferow29_col0\" class=\"data row29 col0\" >Costa Rica</td>\n",
       "                        <td id=\"T_182c893a_ce03_11ea_921e_00bb60658bferow29_col1\" class=\"data row29 col1\" >128</td>\n",
       "            </tr>\n",
       "            <tr>\n",
       "                        <th id=\"T_182c893a_ce03_11ea_921e_00bb60658bfelevel0_row30\" class=\"row_heading level0 row30\" >28</th>\n",
       "                        <td id=\"T_182c893a_ce03_11ea_921e_00bb60658bferow30_col0\" class=\"data row30 col0\" >Mauritius</td>\n",
       "                        <td id=\"T_182c893a_ce03_11ea_921e_00bb60658bferow30_col1\" class=\"data row30 col1\" >104</td>\n",
       "            </tr>\n",
       "            <tr>\n",
       "                        <th id=\"T_182c893a_ce03_11ea_921e_00bb60658bfelevel0_row31\" class=\"row_heading level0 row31\" >42</th>\n",
       "                        <td id=\"T_182c893a_ce03_11ea_921e_00bb60658bferow31_col0\" class=\"data row31 col0\" >Suriname</td>\n",
       "                        <td id=\"T_182c893a_ce03_11ea_921e_00bb60658bferow31_col1\" class=\"data row31 col1\" >80</td>\n",
       "            </tr>\n",
       "            <tr>\n",
       "                        <th id=\"T_182c893a_ce03_11ea_921e_00bb60658bfelevel0_row32\" class=\"row_heading level0 row32\" >33</th>\n",
       "                        <td id=\"T_182c893a_ce03_11ea_921e_00bb60658bferow32_col0\" class=\"data row32 col0\" >Paraguay</td>\n",
       "                        <td id=\"T_182c893a_ce03_11ea_921e_00bb60658bferow32_col1\" class=\"data row32 col1\" >63</td>\n",
       "            </tr>\n",
       "            <tr>\n",
       "                        <th id=\"T_182c893a_ce03_11ea_921e_00bb60658bfelevel0_row33\" class=\"row_heading level0 row33\" >32</th>\n",
       "                        <td id=\"T_182c893a_ce03_11ea_921e_00bb60658bferow33_col0\" class=\"data row33 col0\" >Panama</td>\n",
       "                        <td id=\"T_182c893a_ce03_11ea_921e_00bb60658bferow33_col1\" class=\"data row33 col1\" >56</td>\n",
       "            </tr>\n",
       "            <tr>\n",
       "                        <th id=\"T_182c893a_ce03_11ea_921e_00bb60658bfelevel0_row34\" class=\"row_heading level0 row34\" >26</th>\n",
       "                        <td id=\"T_182c893a_ce03_11ea_921e_00bb60658bferow34_col0\" class=\"data row34 col0\" >Luxembourg</td>\n",
       "                        <td id=\"T_182c893a_ce03_11ea_921e_00bb60658bferow34_col1\" class=\"data row34 col1\" >55</td>\n",
       "            </tr>\n",
       "            <tr>\n",
       "                        <th id=\"T_182c893a_ce03_11ea_921e_00bb60658bfelevel0_row35\" class=\"row_heading level0 row35\" >19</th>\n",
       "                        <td id=\"T_182c893a_ce03_11ea_921e_00bb60658bferow35_col0\" class=\"data row35 col0\" >Iceland</td>\n",
       "                        <td id=\"T_182c893a_ce03_11ea_921e_00bb60658bferow35_col1\" class=\"data row35 col1\" >32</td>\n",
       "            </tr>\n",
       "            <tr>\n",
       "                        <th id=\"T_182c893a_ce03_11ea_921e_00bb60658bfelevel0_row36\" class=\"row_heading level0 row36\" >44</th>\n",
       "                        <td id=\"T_182c893a_ce03_11ea_921e_00bb60658bferow36_col0\" class=\"data row36 col0\" >Trinidad and Tobago</td>\n",
       "                        <td id=\"T_182c893a_ce03_11ea_921e_00bb60658bferow36_col1\" class=\"data row36 col1\" >29</td>\n",
       "            </tr>\n",
       "            <tr>\n",
       "                        <th id=\"T_182c893a_ce03_11ea_921e_00bb60658bfelevel0_row37\" class=\"row_heading level0 row37\" >25</th>\n",
       "                        <td id=\"T_182c893a_ce03_11ea_921e_00bb60658bferow37_col0\" class=\"data row37 col0\" >Kuwait</td>\n",
       "                        <td id=\"T_182c893a_ce03_11ea_921e_00bb60658bferow37_col1\" class=\"data row37 col1\" >17</td>\n",
       "            </tr>\n",
       "            <tr>\n",
       "                        <th id=\"T_182c893a_ce03_11ea_921e_00bb60658bfelevel0_row38\" class=\"row_heading level0 row38\" >5</th>\n",
       "                        <td id=\"T_182c893a_ce03_11ea_921e_00bb60658bferow38_col0\" class=\"data row38 col0\" >Bahrain</td>\n",
       "                        <td id=\"T_182c893a_ce03_11ea_921e_00bb60658bferow38_col1\" class=\"data row38 col1\" >11</td>\n",
       "            </tr>\n",
       "            <tr>\n",
       "                        <th id=\"T_182c893a_ce03_11ea_921e_00bb60658bfelevel0_row39\" class=\"row_heading level0 row39\" >23</th>\n",
       "                        <td id=\"T_182c893a_ce03_11ea_921e_00bb60658bferow39_col0\" class=\"data row39 col0\" >Jamaica</td>\n",
       "                        <td id=\"T_182c893a_ce03_11ea_921e_00bb60658bferow39_col1\" class=\"data row39 col1\" >8</td>\n",
       "            </tr>\n",
       "            <tr>\n",
       "                        <th id=\"T_182c893a_ce03_11ea_921e_00bb60658bfelevel0_row40\" class=\"row_heading level0 row40\" >38</th>\n",
       "                        <td id=\"T_182c893a_ce03_11ea_921e_00bb60658bferow40_col0\" class=\"data row40 col0\" >Seychelles</td>\n",
       "                        <td id=\"T_182c893a_ce03_11ea_921e_00bb60658bferow40_col1\" class=\"data row40 col1\" >8</td>\n",
       "            </tr>\n",
       "            <tr>\n",
       "                        <th id=\"T_182c893a_ce03_11ea_921e_00bb60658bfelevel0_row41\" class=\"row_heading level0 row41\" >6</th>\n",
       "                        <td id=\"T_182c893a_ce03_11ea_921e_00bb60658bferow41_col0\" class=\"data row41 col0\" >Barbados</td>\n",
       "                        <td id=\"T_182c893a_ce03_11ea_921e_00bb60658bferow41_col1\" class=\"data row41 col1\" >7</td>\n",
       "            </tr>\n",
       "            <tr>\n",
       "                        <th id=\"T_182c893a_ce03_11ea_921e_00bb60658bfelevel0_row42\" class=\"row_heading level0 row42\" >37</th>\n",
       "                        <td id=\"T_182c893a_ce03_11ea_921e_00bb60658bferow42_col0\" class=\"data row42 col0\" >Saint Vincent and Grenadines</td>\n",
       "                        <td id=\"T_182c893a_ce03_11ea_921e_00bb60658bferow42_col1\" class=\"data row42 col1\" >2</td>\n",
       "            </tr>\n",
       "            <tr>\n",
       "                        <th id=\"T_182c893a_ce03_11ea_921e_00bb60658bfelevel0_row43\" class=\"row_heading level0 row43\" >27</th>\n",
       "                        <td id=\"T_182c893a_ce03_11ea_921e_00bb60658bferow43_col0\" class=\"data row43 col0\" >Malta</td>\n",
       "                        <td id=\"T_182c893a_ce03_11ea_921e_00bb60658bferow43_col1\" class=\"data row43 col1\" >2</td>\n",
       "            </tr>\n",
       "            <tr>\n",
       "                        <th id=\"T_182c893a_ce03_11ea_921e_00bb60658bfelevel0_row44\" class=\"row_heading level0 row44\" >18</th>\n",
       "                        <td id=\"T_182c893a_ce03_11ea_921e_00bb60658bferow44_col0\" class=\"data row44 col0\" >Grenada</td>\n",
       "                        <td id=\"T_182c893a_ce03_11ea_921e_00bb60658bferow44_col1\" class=\"data row44 col1\" >1</td>\n",
       "            </tr>\n",
       "            <tr>\n",
       "                        <th id=\"T_182c893a_ce03_11ea_921e_00bb60658bfelevel0_row45\" class=\"row_heading level0 row45\" >4</th>\n",
       "                        <td id=\"T_182c893a_ce03_11ea_921e_00bb60658bferow45_col0\" class=\"data row45 col0\" >Bahamas</td>\n",
       "                        <td id=\"T_182c893a_ce03_11ea_921e_00bb60658bferow45_col1\" class=\"data row45 col1\" >1</td>\n",
       "            </tr>\n",
       "            <tr>\n",
       "                        <th id=\"T_182c893a_ce03_11ea_921e_00bb60658bfelevel0_row46\" class=\"row_heading level0 row46\" >14</th>\n",
       "                        <td id=\"T_182c893a_ce03_11ea_921e_00bb60658bferow46_col0\" class=\"data row46 col0\" >Dominica</td>\n",
       "                        <td id=\"T_182c893a_ce03_11ea_921e_00bb60658bferow46_col1\" class=\"data row46 col1\" >0</td>\n",
       "            </tr>\n",
       "            <tr>\n",
       "                        <th id=\"T_182c893a_ce03_11ea_921e_00bb60658bfelevel0_row47\" class=\"row_heading level0 row47\" >0</th>\n",
       "                        <td id=\"T_182c893a_ce03_11ea_921e_00bb60658bferow47_col0\" class=\"data row47 col0\" >Antigua and Barbuda</td>\n",
       "                        <td id=\"T_182c893a_ce03_11ea_921e_00bb60658bferow47_col1\" class=\"data row47 col1\" >0</td>\n",
       "            </tr>\n",
       "    </tbody></table>"
      ],
      "text/plain": [
       "<pandas.io.formats.style.Styler at 0x1a4a4040ac8>"
      ]
     },
     "execution_count": 75,
     "metadata": {},
     "output_type": "execute_result"
    }
   ],
   "source": [
    "# Number of suicides in 1985\n",
    "year_1985 = data[(data['year'] == 1985)]\n",
    "year_1985 = year_1985.groupby('country')[['suicides_no']].sum().reset_index()\n",
    "\n",
    "# Sorting values in ascending order\n",
    "year_1985 = year_1985.sort_values(by='suicides_no', ascending=False)\n",
    "\n",
    "# Styling output dataframe\n",
    "year_1985.style.background_gradient(cmap='Purples', subset=['suicides_no'])"
   ]
  },
  {
   "cell_type": "code",
   "execution_count": 76,
   "metadata": {},
   "outputs": [
    {
     "data": {
      "text/html": [
       "<style  type=\"text/css\" >\n",
       "    #T_187dc9b4_ce03_11ea_a2fc_00bb60658bferow0_col1 {\n",
       "            background-color:  #7f2704;\n",
       "            color:  #f1f1f1;\n",
       "        }    #T_187dc9b4_ce03_11ea_a2fc_00bb60658bferow1_col1 {\n",
       "            background-color:  #fd9446;\n",
       "            color:  #000000;\n",
       "        }    #T_187dc9b4_ce03_11ea_a2fc_00bb60658bferow2_col1 {\n",
       "            background-color:  #fd984b;\n",
       "            color:  #000000;\n",
       "        }    #T_187dc9b4_ce03_11ea_a2fc_00bb60658bferow3_col1 {\n",
       "            background-color:  #fda057;\n",
       "            color:  #000000;\n",
       "        }    #T_187dc9b4_ce03_11ea_a2fc_00bb60658bferow4_col1 {\n",
       "            background-color:  #fdbe84;\n",
       "            color:  #000000;\n",
       "        }    #T_187dc9b4_ce03_11ea_a2fc_00bb60658bferow5_col1 {\n",
       "            background-color:  #fdc590;\n",
       "            color:  #000000;\n",
       "        }    #T_187dc9b4_ce03_11ea_a2fc_00bb60658bferow6_col1 {\n",
       "            background-color:  #fdc997;\n",
       "            color:  #000000;\n",
       "        }    #T_187dc9b4_ce03_11ea_a2fc_00bb60658bferow7_col1 {\n",
       "            background-color:  #fdd9b4;\n",
       "            color:  #000000;\n",
       "        }    #T_187dc9b4_ce03_11ea_a2fc_00bb60658bferow8_col1 {\n",
       "            background-color:  #fedfc0;\n",
       "            color:  #000000;\n",
       "        }    #T_187dc9b4_ce03_11ea_a2fc_00bb60658bferow9_col1 {\n",
       "            background-color:  #fee9d3;\n",
       "            color:  #000000;\n",
       "        }    #T_187dc9b4_ce03_11ea_a2fc_00bb60658bferow10_col1 {\n",
       "            background-color:  #fff2e6;\n",
       "            color:  #000000;\n",
       "        }    #T_187dc9b4_ce03_11ea_a2fc_00bb60658bferow11_col1 {\n",
       "            background-color:  #fff3e7;\n",
       "            color:  #000000;\n",
       "        }    #T_187dc9b4_ce03_11ea_a2fc_00bb60658bferow12_col1 {\n",
       "            background-color:  #fff3e7;\n",
       "            color:  #000000;\n",
       "        }    #T_187dc9b4_ce03_11ea_a2fc_00bb60658bferow13_col1 {\n",
       "            background-color:  #fff4e9;\n",
       "            color:  #000000;\n",
       "        }    #T_187dc9b4_ce03_11ea_a2fc_00bb60658bferow14_col1 {\n",
       "            background-color:  #fff4e9;\n",
       "            color:  #000000;\n",
       "        }    #T_187dc9b4_ce03_11ea_a2fc_00bb60658bferow15_col1 {\n",
       "            background-color:  #fff5eb;\n",
       "            color:  #000000;\n",
       "        }</style><table id=\"T_187dc9b4_ce03_11ea_a2fc_00bb60658bfe\" ><thead>    <tr>        <th class=\"blank level0\" ></th>        <th class=\"col_heading level0 col0\" >country</th>        <th class=\"col_heading level0 col1\" >suicides_no</th>    </tr></thead><tbody>\n",
       "                <tr>\n",
       "                        <th id=\"T_187dc9b4_ce03_11ea_a2fc_00bb60658bfelevel0_row0\" class=\"row_heading level0 row0\" >15</th>\n",
       "                        <td id=\"T_187dc9b4_ce03_11ea_a2fc_00bb60658bferow0_col0\" class=\"data row0 col0\" >Thailand</td>\n",
       "                        <td id=\"T_187dc9b4_ce03_11ea_a2fc_00bb60658bferow0_col1\" class=\"data row0 col1\" >4117</td>\n",
       "            </tr>\n",
       "            <tr>\n",
       "                        <th id=\"T_187dc9b4_ce03_11ea_a2fc_00bb60658bfelevel0_row1\" class=\"row_heading level0 row1\" >13</th>\n",
       "                        <td id=\"T_187dc9b4_ce03_11ea_a2fc_00bb60658bferow1_col0\" class=\"data row1 col0\" >Romania</td>\n",
       "                        <td id=\"T_187dc9b4_ce03_11ea_a2fc_00bb60658bferow1_col1\" class=\"data row1 col1\" >1953</td>\n",
       "            </tr>\n",
       "            <tr>\n",
       "                        <th id=\"T_187dc9b4_ce03_11ea_a2fc_00bb60658bfelevel0_row2\" class=\"row_heading level0 row2\" >11</th>\n",
       "                        <td id=\"T_187dc9b4_ce03_11ea_a2fc_00bb60658bferow2_col0\" class=\"data row2 col0\" >Netherlands</td>\n",
       "                        <td id=\"T_187dc9b4_ce03_11ea_a2fc_00bb60658bferow2_col1\" class=\"data row2 col1\" >1886</td>\n",
       "            </tr>\n",
       "            <tr>\n",
       "                        <th id=\"T_187dc9b4_ce03_11ea_a2fc_00bb60658bfelevel0_row3\" class=\"row_heading level0 row3\" >6</th>\n",
       "                        <td id=\"T_187dc9b4_ce03_11ea_a2fc_00bb60658bferow3_col0\" class=\"data row3 col0\" >Hungary</td>\n",
       "                        <td id=\"T_187dc9b4_ce03_11ea_a2fc_00bb60658bferow3_col1\" class=\"data row3 col1\" >1761</td>\n",
       "            </tr>\n",
       "            <tr>\n",
       "                        <th id=\"T_187dc9b4_ce03_11ea_a2fc_00bb60658bfelevel0_row4\" class=\"row_heading level0 row4\" >4</th>\n",
       "                        <td id=\"T_187dc9b4_ce03_11ea_a2fc_00bb60658bferow4_col0\" class=\"data row4 col0\" >Czech Republic</td>\n",
       "                        <td id=\"T_187dc9b4_ce03_11ea_a2fc_00bb60658bferow4_col1\" class=\"data row4 col1\" >1318</td>\n",
       "            </tr>\n",
       "            <tr>\n",
       "                        <th id=\"T_187dc9b4_ce03_11ea_a2fc_00bb60658bfelevel0_row5\" class=\"row_heading level0 row5\" >1</th>\n",
       "                        <td id=\"T_187dc9b4_ce03_11ea_a2fc_00bb60658bferow5_col0\" class=\"data row5 col0\" >Austria</td>\n",
       "                        <td id=\"T_187dc9b4_ce03_11ea_a2fc_00bb60658bferow5_col1\" class=\"data row5 col1\" >1201</td>\n",
       "            </tr>\n",
       "            <tr>\n",
       "                        <th id=\"T_187dc9b4_ce03_11ea_a2fc_00bb60658bfelevel0_row6\" class=\"row_heading level0 row6\" >14</th>\n",
       "                        <td id=\"T_187dc9b4_ce03_11ea_a2fc_00bb60658bferow6_col0\" class=\"data row6 col0\" >Sweden</td>\n",
       "                        <td id=\"T_187dc9b4_ce03_11ea_a2fc_00bb60658bferow6_col1\" class=\"data row6 col1\" >1130</td>\n",
       "            </tr>\n",
       "            <tr>\n",
       "                        <th id=\"T_187dc9b4_ce03_11ea_a2fc_00bb60658bfelevel0_row7\" class=\"row_heading level0 row7\" >8</th>\n",
       "                        <td id=\"T_187dc9b4_ce03_11ea_a2fc_00bb60658bferow7_col0\" class=\"data row7 col0\" >Lithuania</td>\n",
       "                        <td id=\"T_187dc9b4_ce03_11ea_a2fc_00bb60658bferow7_col1\" class=\"data row7 col1\" >822</td>\n",
       "            </tr>\n",
       "            <tr>\n",
       "                        <th id=\"T_187dc9b4_ce03_11ea_a2fc_00bb60658bfelevel0_row8\" class=\"row_heading level0 row8\" >2</th>\n",
       "                        <td id=\"T_187dc9b4_ce03_11ea_a2fc_00bb60658bferow8_col0\" class=\"data row8 col0\" >Croatia</td>\n",
       "                        <td id=\"T_187dc9b4_ce03_11ea_a2fc_00bb60658bferow8_col1\" class=\"data row8 col1\" >683</td>\n",
       "            </tr>\n",
       "            <tr>\n",
       "                        <th id=\"T_187dc9b4_ce03_11ea_a2fc_00bb60658bfelevel0_row9\" class=\"row_heading level0 row9\" >10</th>\n",
       "                        <td id=\"T_187dc9b4_ce03_11ea_a2fc_00bb60658bferow9_col0\" class=\"data row9 col0\" >Mongolia</td>\n",
       "                        <td id=\"T_187dc9b4_ce03_11ea_a2fc_00bb60658bferow9_col1\" class=\"data row9 col1\" >423</td>\n",
       "            </tr>\n",
       "            <tr>\n",
       "                        <th id=\"T_187dc9b4_ce03_11ea_a2fc_00bb60658bfelevel0_row10\" class=\"row_heading level0 row10\" >9</th>\n",
       "                        <td id=\"T_187dc9b4_ce03_11ea_a2fc_00bb60658bferow10_col0\" class=\"data row10 col0\" >Mauritius</td>\n",
       "                        <td id=\"T_187dc9b4_ce03_11ea_a2fc_00bb60658bferow10_col1\" class=\"data row10 col1\" >98</td>\n",
       "            </tr>\n",
       "            <tr>\n",
       "                        <th id=\"T_187dc9b4_ce03_11ea_a2fc_00bb60658bfelevel0_row11\" class=\"row_heading level0 row11\" >12</th>\n",
       "                        <td id=\"T_187dc9b4_ce03_11ea_a2fc_00bb60658bferow11_col0\" class=\"data row11 col0\" >Qatar</td>\n",
       "                        <td id=\"T_187dc9b4_ce03_11ea_a2fc_00bb60658bferow11_col1\" class=\"data row11 col1\" >68</td>\n",
       "            </tr>\n",
       "            <tr>\n",
       "                        <th id=\"T_187dc9b4_ce03_11ea_a2fc_00bb60658bfelevel0_row12\" class=\"row_heading level0 row12\" >0</th>\n",
       "                        <td id=\"T_187dc9b4_ce03_11ea_a2fc_00bb60658bferow12_col0\" class=\"data row12 col0\" >Armenia</td>\n",
       "                        <td id=\"T_187dc9b4_ce03_11ea_a2fc_00bb60658bferow12_col1\" class=\"data row12 col1\" >67</td>\n",
       "            </tr>\n",
       "            <tr>\n",
       "                        <th id=\"T_187dc9b4_ce03_11ea_a2fc_00bb60658bfelevel0_row13\" class=\"row_heading level0 row13\" >7</th>\n",
       "                        <td id=\"T_187dc9b4_ce03_11ea_a2fc_00bb60658bferow13_col0\" class=\"data row13 col0\" >Iceland</td>\n",
       "                        <td id=\"T_187dc9b4_ce03_11ea_a2fc_00bb60658bferow13_col1\" class=\"data row13 col1\" >40</td>\n",
       "            </tr>\n",
       "            <tr>\n",
       "                        <th id=\"T_187dc9b4_ce03_11ea_a2fc_00bb60658bfelevel0_row14\" class=\"row_heading level0 row14\" >3</th>\n",
       "                        <td id=\"T_187dc9b4_ce03_11ea_a2fc_00bb60658bferow14_col0\" class=\"data row14 col0\" >Cyprus</td>\n",
       "                        <td id=\"T_187dc9b4_ce03_11ea_a2fc_00bb60658bferow14_col1\" class=\"data row14 col1\" >36</td>\n",
       "            </tr>\n",
       "            <tr>\n",
       "                        <th id=\"T_187dc9b4_ce03_11ea_a2fc_00bb60658bfelevel0_row15\" class=\"row_heading level0 row15\" >5</th>\n",
       "                        <td id=\"T_187dc9b4_ce03_11ea_a2fc_00bb60658bferow15_col0\" class=\"data row15 col0\" >Grenada</td>\n",
       "                        <td id=\"T_187dc9b4_ce03_11ea_a2fc_00bb60658bferow15_col1\" class=\"data row15 col1\" >0</td>\n",
       "            </tr>\n",
       "    </tbody></table>"
      ],
      "text/plain": [
       "<pandas.io.formats.style.Styler at 0x1a4a40403c8>"
      ]
     },
     "execution_count": 76,
     "metadata": {},
     "output_type": "execute_result"
    }
   ],
   "source": [
    "#Number of suicides in 2016\n",
    "year_2016 = data[(data['year'] == 2016)]\n",
    "year_2016 = year_2016.groupby('country')[['suicides_no']].sum().reset_index()\n",
    "\n",
    "# Sort values in ascending order\n",
    "year_2016 = year_2016.sort_values(by='suicides_no', ascending=False)\n",
    "\n",
    "# Styling output dataframe\n",
    "year_2016.style.background_gradient(cmap='Oranges', subset=['suicides_no'])"
   ]
  },
  {
   "cell_type": "code",
   "execution_count": 77,
   "metadata": {},
   "outputs": [
    {
     "data": {
      "text/html": [
       "<style  type=\"text/css\" >\n",
       "    #T_18dfd976_ce03_11ea_ba0a_00bb60658bferow0_col1 {\n",
       "            background-color:  #00441b;\n",
       "            color:  #f1f1f1;\n",
       "        }    #T_18dfd976_ce03_11ea_ba0a_00bb60658bferow1_col1 {\n",
       "            background-color:  #00441b;\n",
       "            color:  #f1f1f1;\n",
       "        }    #T_18dfd976_ce03_11ea_ba0a_00bb60658bferow2_col1 {\n",
       "            background-color:  #00441b;\n",
       "            color:  #f1f1f1;\n",
       "        }    #T_18dfd976_ce03_11ea_ba0a_00bb60658bferow3_col1 {\n",
       "            background-color:  #00441b;\n",
       "            color:  #f1f1f1;\n",
       "        }    #T_18dfd976_ce03_11ea_ba0a_00bb60658bferow4_col1 {\n",
       "            background-color:  #004a1e;\n",
       "            color:  #f1f1f1;\n",
       "        }    #T_18dfd976_ce03_11ea_ba0a_00bb60658bferow5_col1 {\n",
       "            background-color:  #004c1e;\n",
       "            color:  #f1f1f1;\n",
       "        }    #T_18dfd976_ce03_11ea_ba0a_00bb60658bferow6_col1 {\n",
       "            background-color:  #005020;\n",
       "            color:  #f1f1f1;\n",
       "        }    #T_18dfd976_ce03_11ea_ba0a_00bb60658bferow7_col1 {\n",
       "            background-color:  #005522;\n",
       "            color:  #f1f1f1;\n",
       "        }    #T_18dfd976_ce03_11ea_ba0a_00bb60658bferow8_col1 {\n",
       "            background-color:  #005522;\n",
       "            color:  #f1f1f1;\n",
       "        }    #T_18dfd976_ce03_11ea_ba0a_00bb60658bferow9_col1 {\n",
       "            background-color:  #005924;\n",
       "            color:  #f1f1f1;\n",
       "        }    #T_18dfd976_ce03_11ea_ba0a_00bb60658bferow10_col1 {\n",
       "            background-color:  #005924;\n",
       "            color:  #f1f1f1;\n",
       "        }    #T_18dfd976_ce03_11ea_ba0a_00bb60658bferow11_col1 {\n",
       "            background-color:  #005b25;\n",
       "            color:  #f1f1f1;\n",
       "        }    #T_18dfd976_ce03_11ea_ba0a_00bb60658bferow12_col1 {\n",
       "            background-color:  #005e26;\n",
       "            color:  #f1f1f1;\n",
       "        }    #T_18dfd976_ce03_11ea_ba0a_00bb60658bferow13_col1 {\n",
       "            background-color:  #006027;\n",
       "            color:  #f1f1f1;\n",
       "        }    #T_18dfd976_ce03_11ea_ba0a_00bb60658bferow14_col1 {\n",
       "            background-color:  #006227;\n",
       "            color:  #f1f1f1;\n",
       "        }    #T_18dfd976_ce03_11ea_ba0a_00bb60658bferow15_col1 {\n",
       "            background-color:  #006328;\n",
       "            color:  #f1f1f1;\n",
       "        }    #T_18dfd976_ce03_11ea_ba0a_00bb60658bferow16_col1 {\n",
       "            background-color:  #006328;\n",
       "            color:  #f1f1f1;\n",
       "        }    #T_18dfd976_ce03_11ea_ba0a_00bb60658bferow17_col1 {\n",
       "            background-color:  #006428;\n",
       "            color:  #f1f1f1;\n",
       "        }    #T_18dfd976_ce03_11ea_ba0a_00bb60658bferow18_col1 {\n",
       "            background-color:  #006729;\n",
       "            color:  #f1f1f1;\n",
       "        }    #T_18dfd976_ce03_11ea_ba0a_00bb60658bferow19_col1 {\n",
       "            background-color:  #03702e;\n",
       "            color:  #f1f1f1;\n",
       "        }    #T_18dfd976_ce03_11ea_ba0a_00bb60658bferow20_col1 {\n",
       "            background-color:  #03702e;\n",
       "            color:  #f1f1f1;\n",
       "        }    #T_18dfd976_ce03_11ea_ba0a_00bb60658bferow21_col1 {\n",
       "            background-color:  #05712f;\n",
       "            color:  #f1f1f1;\n",
       "        }    #T_18dfd976_ce03_11ea_ba0a_00bb60658bferow22_col1 {\n",
       "            background-color:  #117b38;\n",
       "            color:  #f1f1f1;\n",
       "        }    #T_18dfd976_ce03_11ea_ba0a_00bb60658bferow23_col1 {\n",
       "            background-color:  #19833e;\n",
       "            color:  #f1f1f1;\n",
       "        }    #T_18dfd976_ce03_11ea_ba0a_00bb60658bferow24_col1 {\n",
       "            background-color:  #208843;\n",
       "            color:  #000000;\n",
       "        }    #T_18dfd976_ce03_11ea_ba0a_00bb60658bferow25_col1 {\n",
       "            background-color:  #258d47;\n",
       "            color:  #000000;\n",
       "        }    #T_18dfd976_ce03_11ea_ba0a_00bb60658bferow26_col1 {\n",
       "            background-color:  #4bb062;\n",
       "            color:  #000000;\n",
       "        }    #T_18dfd976_ce03_11ea_ba0a_00bb60658bferow27_col1 {\n",
       "            background-color:  #81ca81;\n",
       "            color:  #000000;\n",
       "        }    #T_18dfd976_ce03_11ea_ba0a_00bb60658bferow28_col1 {\n",
       "            background-color:  #8ace88;\n",
       "            color:  #000000;\n",
       "        }    #T_18dfd976_ce03_11ea_ba0a_00bb60658bferow29_col1 {\n",
       "            background-color:  #8bcf89;\n",
       "            color:  #000000;\n",
       "        }    #T_18dfd976_ce03_11ea_ba0a_00bb60658bferow30_col1 {\n",
       "            background-color:  #92d28f;\n",
       "            color:  #000000;\n",
       "        }    #T_18dfd976_ce03_11ea_ba0a_00bb60658bferow31_col1 {\n",
       "            background-color:  #f7fcf5;\n",
       "            color:  #000000;\n",
       "        }</style><table id=\"T_18dfd976_ce03_11ea_ba0a_00bb60658bfe\" ><thead>    <tr>        <th class=\"blank level0\" ></th>        <th class=\"col_heading level0 col0\" >year</th>        <th class=\"col_heading level0 col1\" >suicides_no</th>    </tr></thead><tbody>\n",
       "                <tr>\n",
       "                        <th id=\"T_18dfd976_ce03_11ea_ba0a_00bb60658bfelevel0_row0\" class=\"row_heading level0 row0\" >14</th>\n",
       "                        <td id=\"T_18dfd976_ce03_11ea_ba0a_00bb60658bferow0_col0\" class=\"data row0 col0\" >1999</td>\n",
       "                        <td id=\"T_18dfd976_ce03_11ea_ba0a_00bb60658bferow0_col1\" class=\"data row0 col1\" >256119</td>\n",
       "            </tr>\n",
       "            <tr>\n",
       "                        <th id=\"T_18dfd976_ce03_11ea_ba0a_00bb60658bfelevel0_row1\" class=\"row_heading level0 row1\" >17</th>\n",
       "                        <td id=\"T_18dfd976_ce03_11ea_ba0a_00bb60658bferow1_col0\" class=\"data row1 col0\" >2002</td>\n",
       "                        <td id=\"T_18dfd976_ce03_11ea_ba0a_00bb60658bferow1_col1\" class=\"data row1 col1\" >256095</td>\n",
       "            </tr>\n",
       "            <tr>\n",
       "                        <th id=\"T_18dfd976_ce03_11ea_ba0a_00bb60658bfelevel0_row2\" class=\"row_heading level0 row2\" >18</th>\n",
       "                        <td id=\"T_18dfd976_ce03_11ea_ba0a_00bb60658bferow2_col0\" class=\"data row2 col0\" >2003</td>\n",
       "                        <td id=\"T_18dfd976_ce03_11ea_ba0a_00bb60658bferow2_col1\" class=\"data row2 col1\" >256079</td>\n",
       "            </tr>\n",
       "            <tr>\n",
       "                        <th id=\"T_18dfd976_ce03_11ea_ba0a_00bb60658bfelevel0_row3\" class=\"row_heading level0 row3\" >15</th>\n",
       "                        <td id=\"T_18dfd976_ce03_11ea_ba0a_00bb60658bferow3_col0\" class=\"data row3 col0\" >2000</td>\n",
       "                        <td id=\"T_18dfd976_ce03_11ea_ba0a_00bb60658bferow3_col1\" class=\"data row3 col1\" >255832</td>\n",
       "            </tr>\n",
       "            <tr>\n",
       "                        <th id=\"T_18dfd976_ce03_11ea_ba0a_00bb60658bfelevel0_row4\" class=\"row_heading level0 row4\" >16</th>\n",
       "                        <td id=\"T_18dfd976_ce03_11ea_ba0a_00bb60658bferow4_col0\" class=\"data row4 col0\" >2001</td>\n",
       "                        <td id=\"T_18dfd976_ce03_11ea_ba0a_00bb60658bferow4_col1\" class=\"data row4 col1\" >250652</td>\n",
       "            </tr>\n",
       "            <tr>\n",
       "                        <th id=\"T_18dfd976_ce03_11ea_ba0a_00bb60658bfelevel0_row5\" class=\"row_heading level0 row5\" >13</th>\n",
       "                        <td id=\"T_18dfd976_ce03_11ea_ba0a_00bb60658bferow5_col0\" class=\"data row5 col0\" >1998</td>\n",
       "                        <td id=\"T_18dfd976_ce03_11ea_ba0a_00bb60658bferow5_col1\" class=\"data row5 col1\" >249591</td>\n",
       "            </tr>\n",
       "            <tr>\n",
       "                        <th id=\"T_18dfd976_ce03_11ea_ba0a_00bb60658bfelevel0_row6\" class=\"row_heading level0 row6\" >11</th>\n",
       "                        <td id=\"T_18dfd976_ce03_11ea_ba0a_00bb60658bferow6_col0\" class=\"data row6 col0\" >1996</td>\n",
       "                        <td id=\"T_18dfd976_ce03_11ea_ba0a_00bb60658bferow6_col1\" class=\"data row6 col1\" >246725</td>\n",
       "            </tr>\n",
       "            <tr>\n",
       "                        <th id=\"T_18dfd976_ce03_11ea_ba0a_00bb60658bfelevel0_row7\" class=\"row_heading level0 row7\" >10</th>\n",
       "                        <td id=\"T_18dfd976_ce03_11ea_ba0a_00bb60658bferow7_col0\" class=\"data row7 col0\" >1995</td>\n",
       "                        <td id=\"T_18dfd976_ce03_11ea_ba0a_00bb60658bferow7_col1\" class=\"data row7 col1\" >243544</td>\n",
       "            </tr>\n",
       "            <tr>\n",
       "                        <th id=\"T_18dfd976_ce03_11ea_ba0a_00bb60658bfelevel0_row8\" class=\"row_heading level0 row8\" >24</th>\n",
       "                        <td id=\"T_18dfd976_ce03_11ea_ba0a_00bb60658bferow8_col0\" class=\"data row8 col0\" >2009</td>\n",
       "                        <td id=\"T_18dfd976_ce03_11ea_ba0a_00bb60658bferow8_col1\" class=\"data row8 col1\" >243487</td>\n",
       "            </tr>\n",
       "            <tr>\n",
       "                        <th id=\"T_18dfd976_ce03_11ea_ba0a_00bb60658bfelevel0_row9\" class=\"row_heading level0 row9\" >19</th>\n",
       "                        <td id=\"T_18dfd976_ce03_11ea_ba0a_00bb60658bferow9_col0\" class=\"data row9 col0\" >2004</td>\n",
       "                        <td id=\"T_18dfd976_ce03_11ea_ba0a_00bb60658bferow9_col1\" class=\"data row9 col1\" >240861</td>\n",
       "            </tr>\n",
       "            <tr>\n",
       "                        <th id=\"T_18dfd976_ce03_11ea_ba0a_00bb60658bfelevel0_row10\" class=\"row_heading level0 row10\" >12</th>\n",
       "                        <td id=\"T_18dfd976_ce03_11ea_ba0a_00bb60658bferow10_col0\" class=\"data row10 col0\" >1997</td>\n",
       "                        <td id=\"T_18dfd976_ce03_11ea_ba0a_00bb60658bferow10_col1\" class=\"data row10 col1\" >240745</td>\n",
       "            </tr>\n",
       "            <tr>\n",
       "                        <th id=\"T_18dfd976_ce03_11ea_ba0a_00bb60658bfelevel0_row11\" class=\"row_heading level0 row11\" >25</th>\n",
       "                        <td id=\"T_18dfd976_ce03_11ea_ba0a_00bb60658bferow11_col0\" class=\"data row11 col0\" >2010</td>\n",
       "                        <td id=\"T_18dfd976_ce03_11ea_ba0a_00bb60658bferow11_col1\" class=\"data row11 col1\" >238702</td>\n",
       "            </tr>\n",
       "            <tr>\n",
       "                        <th id=\"T_18dfd976_ce03_11ea_ba0a_00bb60658bfelevel0_row12\" class=\"row_heading level0 row12\" >26</th>\n",
       "                        <td id=\"T_18dfd976_ce03_11ea_ba0a_00bb60658bferow12_col0\" class=\"data row12 col0\" >2011</td>\n",
       "                        <td id=\"T_18dfd976_ce03_11ea_ba0a_00bb60658bferow12_col1\" class=\"data row12 col1\" >236484</td>\n",
       "            </tr>\n",
       "            <tr>\n",
       "                        <th id=\"T_18dfd976_ce03_11ea_ba0a_00bb60658bfelevel0_row13\" class=\"row_heading level0 row13\" >23</th>\n",
       "                        <td id=\"T_18dfd976_ce03_11ea_ba0a_00bb60658bferow13_col0\" class=\"data row13 col0\" >2008</td>\n",
       "                        <td id=\"T_18dfd976_ce03_11ea_ba0a_00bb60658bferow13_col1\" class=\"data row13 col1\" >235447</td>\n",
       "            </tr>\n",
       "            <tr>\n",
       "                        <th id=\"T_18dfd976_ce03_11ea_ba0a_00bb60658bfelevel0_row14\" class=\"row_heading level0 row14\" >20</th>\n",
       "                        <td id=\"T_18dfd976_ce03_11ea_ba0a_00bb60658bferow14_col0\" class=\"data row14 col0\" >2005</td>\n",
       "                        <td id=\"T_18dfd976_ce03_11ea_ba0a_00bb60658bferow14_col1\" class=\"data row14 col1\" >234375</td>\n",
       "            </tr>\n",
       "            <tr>\n",
       "                        <th id=\"T_18dfd976_ce03_11ea_ba0a_00bb60658bfelevel0_row15\" class=\"row_heading level0 row15\" >22</th>\n",
       "                        <td id=\"T_18dfd976_ce03_11ea_ba0a_00bb60658bferow15_col0\" class=\"data row15 col0\" >2007</td>\n",
       "                        <td id=\"T_18dfd976_ce03_11ea_ba0a_00bb60658bferow15_col1\" class=\"data row15 col1\" >233408</td>\n",
       "            </tr>\n",
       "            <tr>\n",
       "                        <th id=\"T_18dfd976_ce03_11ea_ba0a_00bb60658bfelevel0_row16\" class=\"row_heading level0 row16\" >21</th>\n",
       "                        <td id=\"T_18dfd976_ce03_11ea_ba0a_00bb60658bferow16_col0\" class=\"data row16 col0\" >2006</td>\n",
       "                        <td id=\"T_18dfd976_ce03_11ea_ba0a_00bb60658bferow16_col1\" class=\"data row16 col1\" >233361</td>\n",
       "            </tr>\n",
       "            <tr>\n",
       "                        <th id=\"T_18dfd976_ce03_11ea_ba0a_00bb60658bfelevel0_row17\" class=\"row_heading level0 row17\" >9</th>\n",
       "                        <td id=\"T_18dfd976_ce03_11ea_ba0a_00bb60658bferow17_col0\" class=\"data row17 col0\" >1994</td>\n",
       "                        <td id=\"T_18dfd976_ce03_11ea_ba0a_00bb60658bferow17_col1\" class=\"data row17 col1\" >232063</td>\n",
       "            </tr>\n",
       "            <tr>\n",
       "                        <th id=\"T_18dfd976_ce03_11ea_ba0a_00bb60658bfelevel0_row18\" class=\"row_heading level0 row18\" >27</th>\n",
       "                        <td id=\"T_18dfd976_ce03_11ea_ba0a_00bb60658bferow18_col0\" class=\"data row18 col0\" >2012</td>\n",
       "                        <td id=\"T_18dfd976_ce03_11ea_ba0a_00bb60658bferow18_col1\" class=\"data row18 col1\" >230160</td>\n",
       "            </tr>\n",
       "            <tr>\n",
       "                        <th id=\"T_18dfd976_ce03_11ea_ba0a_00bb60658bfelevel0_row19\" class=\"row_heading level0 row19\" >28</th>\n",
       "                        <td id=\"T_18dfd976_ce03_11ea_ba0a_00bb60658bferow19_col0\" class=\"data row19 col0\" >2013</td>\n",
       "                        <td id=\"T_18dfd976_ce03_11ea_ba0a_00bb60658bferow19_col1\" class=\"data row19 col1\" >223199</td>\n",
       "            </tr>\n",
       "            <tr>\n",
       "                        <th id=\"T_18dfd976_ce03_11ea_ba0a_00bb60658bfelevel0_row20\" class=\"row_heading level0 row20\" >29</th>\n",
       "                        <td id=\"T_18dfd976_ce03_11ea_ba0a_00bb60658bferow20_col0\" class=\"data row20 col0\" >2014</td>\n",
       "                        <td id=\"T_18dfd976_ce03_11ea_ba0a_00bb60658bferow20_col1\" class=\"data row20 col1\" >222984</td>\n",
       "            </tr>\n",
       "            <tr>\n",
       "                        <th id=\"T_18dfd976_ce03_11ea_ba0a_00bb60658bfelevel0_row21\" class=\"row_heading level0 row21\" >8</th>\n",
       "                        <td id=\"T_18dfd976_ce03_11ea_ba0a_00bb60658bferow21_col0\" class=\"data row21 col0\" >1993</td>\n",
       "                        <td id=\"T_18dfd976_ce03_11ea_ba0a_00bb60658bferow21_col1\" class=\"data row21 col1\" >221565</td>\n",
       "            </tr>\n",
       "            <tr>\n",
       "                        <th id=\"T_18dfd976_ce03_11ea_ba0a_00bb60658bfelevel0_row22\" class=\"row_heading level0 row22\" >7</th>\n",
       "                        <td id=\"T_18dfd976_ce03_11ea_ba0a_00bb60658bferow22_col0\" class=\"data row22 col0\" >1992</td>\n",
       "                        <td id=\"T_18dfd976_ce03_11ea_ba0a_00bb60658bferow22_col1\" class=\"data row22 col1\" >211473</td>\n",
       "            </tr>\n",
       "            <tr>\n",
       "                        <th id=\"T_18dfd976_ce03_11ea_ba0a_00bb60658bfelevel0_row23\" class=\"row_heading level0 row23\" >30</th>\n",
       "                        <td id=\"T_18dfd976_ce03_11ea_ba0a_00bb60658bferow23_col0\" class=\"data row23 col0\" >2015</td>\n",
       "                        <td id=\"T_18dfd976_ce03_11ea_ba0a_00bb60658bferow23_col1\" class=\"data row23 col1\" >203640</td>\n",
       "            </tr>\n",
       "            <tr>\n",
       "                        <th id=\"T_18dfd976_ce03_11ea_ba0a_00bb60658bfelevel0_row24\" class=\"row_heading level0 row24\" >6</th>\n",
       "                        <td id=\"T_18dfd976_ce03_11ea_ba0a_00bb60658bferow24_col0\" class=\"data row24 col0\" >1991</td>\n",
       "                        <td id=\"T_18dfd976_ce03_11ea_ba0a_00bb60658bferow24_col1\" class=\"data row24 col1\" >198020</td>\n",
       "            </tr>\n",
       "            <tr>\n",
       "                        <th id=\"T_18dfd976_ce03_11ea_ba0a_00bb60658bfelevel0_row25\" class=\"row_heading level0 row25\" >5</th>\n",
       "                        <td id=\"T_18dfd976_ce03_11ea_ba0a_00bb60658bferow25_col0\" class=\"data row25 col0\" >1990</td>\n",
       "                        <td id=\"T_18dfd976_ce03_11ea_ba0a_00bb60658bferow25_col1\" class=\"data row25 col1\" >193361</td>\n",
       "            </tr>\n",
       "            <tr>\n",
       "                        <th id=\"T_18dfd976_ce03_11ea_ba0a_00bb60658bfelevel0_row26\" class=\"row_heading level0 row26\" >4</th>\n",
       "                        <td id=\"T_18dfd976_ce03_11ea_ba0a_00bb60658bferow26_col0\" class=\"data row26 col0\" >1989</td>\n",
       "                        <td id=\"T_18dfd976_ce03_11ea_ba0a_00bb60658bferow26_col1\" class=\"data row26 col1\" >160244</td>\n",
       "            </tr>\n",
       "            <tr>\n",
       "                        <th id=\"T_18dfd976_ce03_11ea_ba0a_00bb60658bfelevel0_row27\" class=\"row_heading level0 row27\" >2</th>\n",
       "                        <td id=\"T_18dfd976_ce03_11ea_ba0a_00bb60658bferow27_col0\" class=\"data row27 col0\" >1987</td>\n",
       "                        <td id=\"T_18dfd976_ce03_11ea_ba0a_00bb60658bferow27_col1\" class=\"data row27 col1\" >126842</td>\n",
       "            </tr>\n",
       "            <tr>\n",
       "                        <th id=\"T_18dfd976_ce03_11ea_ba0a_00bb60658bfelevel0_row28\" class=\"row_heading level0 row28\" >3</th>\n",
       "                        <td id=\"T_18dfd976_ce03_11ea_ba0a_00bb60658bferow28_col0\" class=\"data row28 col0\" >1988</td>\n",
       "                        <td id=\"T_18dfd976_ce03_11ea_ba0a_00bb60658bferow28_col1\" class=\"data row28 col1\" >121026</td>\n",
       "            </tr>\n",
       "            <tr>\n",
       "                        <th id=\"T_18dfd976_ce03_11ea_ba0a_00bb60658bfelevel0_row29\" class=\"row_heading level0 row29\" >1</th>\n",
       "                        <td id=\"T_18dfd976_ce03_11ea_ba0a_00bb60658bferow29_col0\" class=\"data row29 col0\" >1986</td>\n",
       "                        <td id=\"T_18dfd976_ce03_11ea_ba0a_00bb60658bferow29_col1\" class=\"data row29 col1\" >120670</td>\n",
       "            </tr>\n",
       "            <tr>\n",
       "                        <th id=\"T_18dfd976_ce03_11ea_ba0a_00bb60658bfelevel0_row30\" class=\"row_heading level0 row30\" >0</th>\n",
       "                        <td id=\"T_18dfd976_ce03_11ea_ba0a_00bb60658bferow30_col0\" class=\"data row30 col0\" >1985</td>\n",
       "                        <td id=\"T_18dfd976_ce03_11ea_ba0a_00bb60658bferow30_col1\" class=\"data row30 col1\" >116063</td>\n",
       "            </tr>\n",
       "            <tr>\n",
       "                        <th id=\"T_18dfd976_ce03_11ea_ba0a_00bb60658bfelevel0_row31\" class=\"row_heading level0 row31\" >31</th>\n",
       "                        <td id=\"T_18dfd976_ce03_11ea_ba0a_00bb60658bferow31_col0\" class=\"data row31 col0\" >2016</td>\n",
       "                        <td id=\"T_18dfd976_ce03_11ea_ba0a_00bb60658bferow31_col1\" class=\"data row31 col1\" >15603</td>\n",
       "            </tr>\n",
       "    </tbody></table>"
      ],
      "text/plain": [
       "<pandas.io.formats.style.Styler at 0x1a4a405dbc8>"
      ]
     },
     "execution_count": 77,
     "metadata": {},
     "output_type": "execute_result"
    }
   ],
   "source": [
    "# Suicides number by year (high to low)\n",
    "year_suicides = data.groupby('year')[['suicides_no']].sum().reset_index()\n",
    "year_suicides.sort_values(by='suicides_no', ascending=False).style.background_gradient(cmap='Greens', subset=['suicides_no'])"
   ]
  },
  {
   "cell_type": "code",
   "execution_count": 78,
   "metadata": {},
   "outputs": [
    {
     "data": {
      "text/html": [
       "<style  type=\"text/css\" >\n",
       "    #T_194b7194_ce03_11ea_9e37_00bb60658bferow0_col1 {\n",
       "            background-color:  #000000;\n",
       "            color:  #f1f1f1;\n",
       "        }    #T_194b7194_ce03_11ea_9e37_00bb60658bferow1_col1 {\n",
       "            background-color:  #676767;\n",
       "            color:  #f1f1f1;\n",
       "        }    #T_194b7194_ce03_11ea_9e37_00bb60658bferow2_col1 {\n",
       "            background-color:  #a7a7a7;\n",
       "            color:  #000000;\n",
       "        }    #T_194b7194_ce03_11ea_9e37_00bb60658bferow3_col1 {\n",
       "            background-color:  #cbcbcb;\n",
       "            color:  #000000;\n",
       "        }    #T_194b7194_ce03_11ea_9e37_00bb60658bferow4_col1 {\n",
       "            background-color:  #d9d9d9;\n",
       "            color:  #000000;\n",
       "        }    #T_194b7194_ce03_11ea_9e37_00bb60658bferow5_col1 {\n",
       "            background-color:  #ffffff;\n",
       "            color:  #000000;\n",
       "        }</style><table id=\"T_194b7194_ce03_11ea_9e37_00bb60658bfe\" ><thead>    <tr>        <th class=\"blank level0\" ></th>        <th class=\"col_heading level0 col0\" >age</th>        <th class=\"col_heading level0 col1\" >suicides_no</th>    </tr></thead><tbody>\n",
       "                <tr>\n",
       "                        <th id=\"T_194b7194_ce03_11ea_9e37_00bb60658bfelevel0_row0\" class=\"row_heading level0 row0\" >2</th>\n",
       "                        <td id=\"T_194b7194_ce03_11ea_9e37_00bb60658bferow0_col0\" class=\"data row0 col0\" >35-54 years</td>\n",
       "                        <td id=\"T_194b7194_ce03_11ea_9e37_00bb60658bferow0_col1\" class=\"data row0 col1\" >2452141</td>\n",
       "            </tr>\n",
       "            <tr>\n",
       "                        <th id=\"T_194b7194_ce03_11ea_9e37_00bb60658bfelevel0_row1\" class=\"row_heading level0 row1\" >4</th>\n",
       "                        <td id=\"T_194b7194_ce03_11ea_9e37_00bb60658bferow1_col0\" class=\"data row1 col0\" >55-74 years</td>\n",
       "                        <td id=\"T_194b7194_ce03_11ea_9e37_00bb60658bferow1_col1\" class=\"data row1 col1\" >1658443</td>\n",
       "            </tr>\n",
       "            <tr>\n",
       "                        <th id=\"T_194b7194_ce03_11ea_9e37_00bb60658bfelevel0_row2\" class=\"row_heading level0 row2\" >1</th>\n",
       "                        <td id=\"T_194b7194_ce03_11ea_9e37_00bb60658bferow2_col0\" class=\"data row2 col0\" >25-34 years</td>\n",
       "                        <td id=\"T_194b7194_ce03_11ea_9e37_00bb60658bferow2_col1\" class=\"data row2 col1\" >1123912</td>\n",
       "            </tr>\n",
       "            <tr>\n",
       "                        <th id=\"T_194b7194_ce03_11ea_9e37_00bb60658bfelevel0_row3\" class=\"row_heading level0 row3\" >0</th>\n",
       "                        <td id=\"T_194b7194_ce03_11ea_9e37_00bb60658bferow3_col0\" class=\"data row3 col0\" >15-24 years</td>\n",
       "                        <td id=\"T_194b7194_ce03_11ea_9e37_00bb60658bferow3_col1\" class=\"data row3 col1\" >808542</td>\n",
       "            </tr>\n",
       "            <tr>\n",
       "                        <th id=\"T_194b7194_ce03_11ea_9e37_00bb60658bfelevel0_row4\" class=\"row_heading level0 row4\" >5</th>\n",
       "                        <td id=\"T_194b7194_ce03_11ea_9e37_00bb60658bferow4_col0\" class=\"data row4 col0\" >75+ years</td>\n",
       "                        <td id=\"T_194b7194_ce03_11ea_9e37_00bb60658bferow4_col1\" class=\"data row4 col1\" >653118</td>\n",
       "            </tr>\n",
       "            <tr>\n",
       "                        <th id=\"T_194b7194_ce03_11ea_9e37_00bb60658bfelevel0_row5\" class=\"row_heading level0 row5\" >3</th>\n",
       "                        <td id=\"T_194b7194_ce03_11ea_9e37_00bb60658bferow5_col0\" class=\"data row5 col0\" >5-14 years</td>\n",
       "                        <td id=\"T_194b7194_ce03_11ea_9e37_00bb60658bferow5_col1\" class=\"data row5 col1\" >52264</td>\n",
       "            </tr>\n",
       "    </tbody></table>"
      ],
      "text/plain": [
       "<pandas.io.formats.style.Styler at 0x1a4a405c788>"
      ]
     },
     "execution_count": 78,
     "metadata": {},
     "output_type": "execute_result"
    }
   ],
   "source": [
    "# Suicides number by age group\n",
    "age_grp = data.groupby('age')[['suicides_no']].sum().reset_index()\n",
    "age_grp.sort_values(by='suicides_no', ascending=False).style.background_gradient(cmap='Greys', subset=['suicides_no'])"
   ]
  },
  {
   "cell_type": "code",
   "execution_count": 79,
   "metadata": {},
   "outputs": [
    {
     "data": {
      "text/html": [
       "<style  type=\"text/css\" >\n",
       "    #T_1992e65a_ce03_11ea_b030_00bb60658bferow0_col2 {\n",
       "            background-color:  #67000d;\n",
       "            color:  #f1f1f1;\n",
       "        }    #T_1992e65a_ce03_11ea_b030_00bb60658bferow1_col2 {\n",
       "            background-color:  #f14331;\n",
       "            color:  #f1f1f1;\n",
       "        }    #T_1992e65a_ce03_11ea_b030_00bb60658bferow2_col2 {\n",
       "            background-color:  #fc8464;\n",
       "            color:  #000000;\n",
       "        }    #T_1992e65a_ce03_11ea_b030_00bb60658bferow3_col2 {\n",
       "            background-color:  #fc8e6e;\n",
       "            color:  #000000;\n",
       "        }    #T_1992e65a_ce03_11ea_b030_00bb60658bferow4_col2 {\n",
       "            background-color:  #fc9272;\n",
       "            color:  #000000;\n",
       "        }    #T_1992e65a_ce03_11ea_b030_00bb60658bferow5_col2 {\n",
       "            background-color:  #fc9576;\n",
       "            color:  #000000;\n",
       "        }    #T_1992e65a_ce03_11ea_b030_00bb60658bferow6_col2 {\n",
       "            background-color:  #fc997a;\n",
       "            color:  #000000;\n",
       "        }    #T_1992e65a_ce03_11ea_b030_00bb60658bferow7_col2 {\n",
       "            background-color:  #fc9d7f;\n",
       "            color:  #000000;\n",
       "        }    #T_1992e65a_ce03_11ea_b030_00bb60658bferow8_col2 {\n",
       "            background-color:  #fca082;\n",
       "            color:  #000000;\n",
       "        }    #T_1992e65a_ce03_11ea_b030_00bb60658bferow9_col2 {\n",
       "            background-color:  #fcad90;\n",
       "            color:  #000000;\n",
       "        }    #T_1992e65a_ce03_11ea_b030_00bb60658bferow10_col2 {\n",
       "            background-color:  #fcb499;\n",
       "            color:  #000000;\n",
       "        }    #T_1992e65a_ce03_11ea_b030_00bb60658bferow11_col2 {\n",
       "            background-color:  #fcbda4;\n",
       "            color:  #000000;\n",
       "        }    #T_1992e65a_ce03_11ea_b030_00bb60658bferow12_col2 {\n",
       "            background-color:  #fdd3c1;\n",
       "            color:  #000000;\n",
       "        }    #T_1992e65a_ce03_11ea_b030_00bb60658bferow13_col2 {\n",
       "            background-color:  #fed8c7;\n",
       "            color:  #000000;\n",
       "        }    #T_1992e65a_ce03_11ea_b030_00bb60658bferow14_col2 {\n",
       "            background-color:  #fedfd0;\n",
       "            color:  #000000;\n",
       "        }    #T_1992e65a_ce03_11ea_b030_00bb60658bferow15_col2 {\n",
       "            background-color:  #fee5d9;\n",
       "            color:  #000000;\n",
       "        }    #T_1992e65a_ce03_11ea_b030_00bb60658bferow16_col2 {\n",
       "            background-color:  #feeae1;\n",
       "            color:  #000000;\n",
       "        }    #T_1992e65a_ce03_11ea_b030_00bb60658bferow17_col2 {\n",
       "            background-color:  #fff2ec;\n",
       "            color:  #000000;\n",
       "        }    #T_1992e65a_ce03_11ea_b030_00bb60658bferow18_col2 {\n",
       "            background-color:  #fff4ee;\n",
       "            color:  #000000;\n",
       "        }    #T_1992e65a_ce03_11ea_b030_00bb60658bferow19_col2 {\n",
       "            background-color:  #fff5f0;\n",
       "            color:  #000000;\n",
       "        }</style><table id=\"T_1992e65a_ce03_11ea_b030_00bb60658bfe\" ><thead>    <tr>        <th class=\"blank level0\" ></th>        <th class=\"col_heading level0 col0\" >country</th>        <th class=\"col_heading level0 col1\" >year</th>        <th class=\"col_heading level0 col2\" >suicides_K</th>    </tr></thead><tbody>\n",
       "                <tr>\n",
       "                        <th id=\"T_1992e65a_ce03_11ea_b030_00bb60658bfelevel0_row0\" class=\"row_heading level0 row0\" >1255</th>\n",
       "                        <td id=\"T_1992e65a_ce03_11ea_b030_00bb60658bferow0_col0\" class=\"data row0 col0\" >Lithuania</td>\n",
       "                        <td id=\"T_1992e65a_ce03_11ea_b030_00bb60658bferow0_col1\" class=\"data row0 col1\" >1995</td>\n",
       "                        <td id=\"T_1992e65a_ce03_11ea_b030_00bb60658bferow0_col2\" class=\"data row0 col2\" >639.3</td>\n",
       "            </tr>\n",
       "            <tr>\n",
       "                        <th id=\"T_1992e65a_ce03_11ea_b030_00bb60658bfelevel0_row1\" class=\"row_heading level0 row1\" >1256</th>\n",
       "                        <td id=\"T_1992e65a_ce03_11ea_b030_00bb60658bferow1_col0\" class=\"data row1 col0\" >Lithuania</td>\n",
       "                        <td id=\"T_1992e65a_ce03_11ea_b030_00bb60658bferow1_col1\" class=\"data row1 col1\" >1996</td>\n",
       "                        <td id=\"T_1992e65a_ce03_11ea_b030_00bb60658bferow1_col2\" class=\"data row1 col2\" >595.61</td>\n",
       "            </tr>\n",
       "            <tr>\n",
       "                        <th id=\"T_1992e65a_ce03_11ea_b030_00bb60658bfelevel0_row2\" class=\"row_heading level0 row2\" >948</th>\n",
       "                        <td id=\"T_1992e65a_ce03_11ea_b030_00bb60658bferow2_col0\" class=\"data row2 col0\" >Hungary</td>\n",
       "                        <td id=\"T_1992e65a_ce03_11ea_b030_00bb60658bferow2_col1\" class=\"data row2 col1\" >1991</td>\n",
       "                        <td id=\"T_1992e65a_ce03_11ea_b030_00bb60658bferow2_col2\" class=\"data row2 col2\" >575</td>\n",
       "            </tr>\n",
       "            <tr>\n",
       "                        <th id=\"T_1992e65a_ce03_11ea_b030_00bb60658bfelevel0_row3\" class=\"row_heading level0 row3\" >1260</th>\n",
       "                        <td id=\"T_1992e65a_ce03_11ea_b030_00bb60658bferow3_col0\" class=\"data row3 col0\" >Lithuania</td>\n",
       "                        <td id=\"T_1992e65a_ce03_11ea_b030_00bb60658bferow3_col1\" class=\"data row3 col1\" >2000</td>\n",
       "                        <td id=\"T_1992e65a_ce03_11ea_b030_00bb60658bferow3_col2\" class=\"data row3 col2\" >571.8</td>\n",
       "            </tr>\n",
       "            <tr>\n",
       "                        <th id=\"T_1992e65a_ce03_11ea_b030_00bb60658bfelevel0_row4\" class=\"row_heading level0 row4\" >949</th>\n",
       "                        <td id=\"T_1992e65a_ce03_11ea_b030_00bb60658bferow4_col0\" class=\"data row4 col0\" >Hungary</td>\n",
       "                        <td id=\"T_1992e65a_ce03_11ea_b030_00bb60658bferow4_col1\" class=\"data row4 col1\" >1992</td>\n",
       "                        <td id=\"T_1992e65a_ce03_11ea_b030_00bb60658bferow4_col2\" class=\"data row4 col2\" >570.26</td>\n",
       "            </tr>\n",
       "            <tr>\n",
       "                        <th id=\"T_1992e65a_ce03_11ea_b030_00bb60658bfelevel0_row5\" class=\"row_heading level0 row5\" >1261</th>\n",
       "                        <td id=\"T_1992e65a_ce03_11ea_b030_00bb60658bferow5_col0\" class=\"data row5 col0\" >Lithuania</td>\n",
       "                        <td id=\"T_1992e65a_ce03_11ea_b030_00bb60658bferow5_col1\" class=\"data row5 col1\" >2001</td>\n",
       "                        <td id=\"T_1992e65a_ce03_11ea_b030_00bb60658bferow5_col2\" class=\"data row5 col2\" >568.98</td>\n",
       "            </tr>\n",
       "            <tr>\n",
       "                        <th id=\"T_1992e65a_ce03_11ea_b030_00bb60658bfelevel0_row6\" class=\"row_heading level0 row6\" >1752</th>\n",
       "                        <td id=\"T_1992e65a_ce03_11ea_b030_00bb60658bferow6_col0\" class=\"data row6 col0\" >Russian Federation</td>\n",
       "                        <td id=\"T_1992e65a_ce03_11ea_b030_00bb60658bferow6_col1\" class=\"data row6 col1\" >1994</td>\n",
       "                        <td id=\"T_1992e65a_ce03_11ea_b030_00bb60658bferow6_col2\" class=\"data row6 col2\" >567.64</td>\n",
       "            </tr>\n",
       "            <tr>\n",
       "                        <th id=\"T_1992e65a_ce03_11ea_b030_00bb60658bfelevel0_row7\" class=\"row_heading level0 row7\" >1258</th>\n",
       "                        <td id=\"T_1992e65a_ce03_11ea_b030_00bb60658bferow7_col0\" class=\"data row7 col0\" >Lithuania</td>\n",
       "                        <td id=\"T_1992e65a_ce03_11ea_b030_00bb60658bferow7_col1\" class=\"data row7 col1\" >1998</td>\n",
       "                        <td id=\"T_1992e65a_ce03_11ea_b030_00bb60658bferow7_col2\" class=\"data row7 col2\" >566.36</td>\n",
       "            </tr>\n",
       "            <tr>\n",
       "                        <th id=\"T_1992e65a_ce03_11ea_b030_00bb60658bfelevel0_row8\" class=\"row_heading level0 row8\" >1257</th>\n",
       "                        <td id=\"T_1992e65a_ce03_11ea_b030_00bb60658bferow8_col0\" class=\"data row8 col0\" >Lithuania</td>\n",
       "                        <td id=\"T_1992e65a_ce03_11ea_b030_00bb60658bferow8_col1\" class=\"data row8 col1\" >1997</td>\n",
       "                        <td id=\"T_1992e65a_ce03_11ea_b030_00bb60658bferow8_col2\" class=\"data row8 col2\" >565.44</td>\n",
       "            </tr>\n",
       "            <tr>\n",
       "                        <th id=\"T_1992e65a_ce03_11ea_b030_00bb60658bfelevel0_row9\" class=\"row_heading level0 row9\" >1259</th>\n",
       "                        <td id=\"T_1992e65a_ce03_11ea_b030_00bb60658bferow9_col0\" class=\"data row9 col0\" >Lithuania</td>\n",
       "                        <td id=\"T_1992e65a_ce03_11ea_b030_00bb60658bferow9_col1\" class=\"data row9 col1\" >1999</td>\n",
       "                        <td id=\"T_1992e65a_ce03_11ea_b030_00bb60658bferow9_col2\" class=\"data row9 col2\" >561.53</td>\n",
       "            </tr>\n",
       "            <tr>\n",
       "                        <th id=\"T_1992e65a_ce03_11ea_b030_00bb60658bfelevel0_row10\" class=\"row_heading level0 row10\" >1994</th>\n",
       "                        <td id=\"T_1992e65a_ce03_11ea_b030_00bb60658bferow10_col0\" class=\"data row10 col0\" >Sri Lanka</td>\n",
       "                        <td id=\"T_1992e65a_ce03_11ea_b030_00bb60658bferow10_col1\" class=\"data row10 col1\" >1985</td>\n",
       "                        <td id=\"T_1992e65a_ce03_11ea_b030_00bb60658bferow10_col2\" class=\"data row10 col2\" >558.72</td>\n",
       "            </tr>\n",
       "            <tr>\n",
       "                        <th id=\"T_1992e65a_ce03_11ea_b030_00bb60658bfelevel0_row11\" class=\"row_heading level0 row11\" >1262</th>\n",
       "                        <td id=\"T_1992e65a_ce03_11ea_b030_00bb60658bferow11_col0\" class=\"data row11 col0\" >Lithuania</td>\n",
       "                        <td id=\"T_1992e65a_ce03_11ea_b030_00bb60658bferow11_col1\" class=\"data row11 col1\" >2002</td>\n",
       "                        <td id=\"T_1992e65a_ce03_11ea_b030_00bb60658bferow11_col2\" class=\"data row11 col2\" >555.62</td>\n",
       "            </tr>\n",
       "            <tr>\n",
       "                        <th id=\"T_1992e65a_ce03_11ea_b030_00bb60658bfelevel0_row12\" class=\"row_heading level0 row12\" >1753</th>\n",
       "                        <td id=\"T_1992e65a_ce03_11ea_b030_00bb60658bferow12_col0\" class=\"data row12 col0\" >Russian Federation</td>\n",
       "                        <td id=\"T_1992e65a_ce03_11ea_b030_00bb60658bferow12_col1\" class=\"data row12 col1\" >1995</td>\n",
       "                        <td id=\"T_1992e65a_ce03_11ea_b030_00bb60658bferow12_col2\" class=\"data row12 col2\" >547.38</td>\n",
       "            </tr>\n",
       "            <tr>\n",
       "                        <th id=\"T_1992e65a_ce03_11ea_b030_00bb60658bfelevel0_row13\" class=\"row_heading level0 row13\" >1234</th>\n",
       "                        <td id=\"T_1992e65a_ce03_11ea_b030_00bb60658bferow13_col0\" class=\"data row13 col0\" >Latvia</td>\n",
       "                        <td id=\"T_1992e65a_ce03_11ea_b030_00bb60658bferow13_col1\" class=\"data row13 col1\" >1995</td>\n",
       "                        <td id=\"T_1992e65a_ce03_11ea_b030_00bb60658bferow13_col2\" class=\"data row13 col2\" >545.62</td>\n",
       "            </tr>\n",
       "            <tr>\n",
       "                        <th id=\"T_1992e65a_ce03_11ea_b030_00bb60658bfelevel0_row14\" class=\"row_heading level0 row14\" >697</th>\n",
       "                        <td id=\"T_1992e65a_ce03_11ea_b030_00bb60658bferow14_col0\" class=\"data row14 col0\" >Estonia</td>\n",
       "                        <td id=\"T_1992e65a_ce03_11ea_b030_00bb60658bferow14_col1\" class=\"data row14 col1\" >1995</td>\n",
       "                        <td id=\"T_1992e65a_ce03_11ea_b030_00bb60658bferow14_col2\" class=\"data row14 col2\" >543.19</td>\n",
       "            </tr>\n",
       "            <tr>\n",
       "                        <th id=\"T_1992e65a_ce03_11ea_b030_00bb60658bfelevel0_row15\" class=\"row_heading level0 row15\" >950</th>\n",
       "                        <td id=\"T_1992e65a_ce03_11ea_b030_00bb60658bferow15_col0\" class=\"data row15 col0\" >Hungary</td>\n",
       "                        <td id=\"T_1992e65a_ce03_11ea_b030_00bb60658bferow15_col1\" class=\"data row15 col1\" >1993</td>\n",
       "                        <td id=\"T_1992e65a_ce03_11ea_b030_00bb60658bferow15_col2\" class=\"data row15 col2\" >539.28</td>\n",
       "            </tr>\n",
       "            <tr>\n",
       "                        <th id=\"T_1992e65a_ce03_11ea_b030_00bb60658bfelevel0_row16\" class=\"row_heading level0 row16\" >951</th>\n",
       "                        <td id=\"T_1992e65a_ce03_11ea_b030_00bb60658bferow16_col0\" class=\"data row16 col0\" >Hungary</td>\n",
       "                        <td id=\"T_1992e65a_ce03_11ea_b030_00bb60658bferow16_col1\" class=\"data row16 col1\" >1994</td>\n",
       "                        <td id=\"T_1992e65a_ce03_11ea_b030_00bb60658bferow16_col2\" class=\"data row16 col2\" >535.81</td>\n",
       "            </tr>\n",
       "            <tr>\n",
       "                        <th id=\"T_1992e65a_ce03_11ea_b030_00bb60658bfelevel0_row17\" class=\"row_heading level0 row17\" >1263</th>\n",
       "                        <td id=\"T_1992e65a_ce03_11ea_b030_00bb60658bferow17_col0\" class=\"data row17 col0\" >Lithuania</td>\n",
       "                        <td id=\"T_1992e65a_ce03_11ea_b030_00bb60658bferow17_col1\" class=\"data row17 col1\" >2003</td>\n",
       "                        <td id=\"T_1992e65a_ce03_11ea_b030_00bb60658bferow17_col2\" class=\"data row17 col2\" >530.52</td>\n",
       "            </tr>\n",
       "            <tr>\n",
       "                        <th id=\"T_1992e65a_ce03_11ea_b030_00bb60658bfelevel0_row18\" class=\"row_heading level0 row18\" >1995</th>\n",
       "                        <td id=\"T_1992e65a_ce03_11ea_b030_00bb60658bferow18_col0\" class=\"data row18 col0\" >Sri Lanka</td>\n",
       "                        <td id=\"T_1992e65a_ce03_11ea_b030_00bb60658bferow18_col1\" class=\"data row18 col1\" >1986</td>\n",
       "                        <td id=\"T_1992e65a_ce03_11ea_b030_00bb60658bferow18_col2\" class=\"data row18 col2\" >529.8</td>\n",
       "            </tr>\n",
       "            <tr>\n",
       "                        <th id=\"T_1992e65a_ce03_11ea_b030_00bb60658bfelevel0_row19\" class=\"row_heading level0 row19\" >698</th>\n",
       "                        <td id=\"T_1992e65a_ce03_11ea_b030_00bb60658bferow19_col0\" class=\"data row19 col0\" >Estonia</td>\n",
       "                        <td id=\"T_1992e65a_ce03_11ea_b030_00bb60658bferow19_col1\" class=\"data row19 col1\" >1996</td>\n",
       "                        <td id=\"T_1992e65a_ce03_11ea_b030_00bb60658bferow19_col2\" class=\"data row19 col2\" >528.72</td>\n",
       "            </tr>\n",
       "    </tbody></table>"
      ],
      "text/plain": [
       "<pandas.io.formats.style.Styler at 0x1a4a405a3c8>"
      ]
     },
     "execution_count": 79,
     "metadata": {},
     "output_type": "execute_result"
    }
   ],
   "source": [
    "# Suicides number per 100k population\n",
    "per100k = data.groupby(['country', 'year'])[['suicides_K']].sum().reset_index()\n",
    "per100k.sort_values(by='suicides_K', ascending=False).head(20).style.background_gradient(cmap='Reds', subset=['suicides_K'])"
   ]
  },
  {
   "cell_type": "markdown",
   "metadata": {},
   "source": [
    "### Top 15 countries with most suicides"
   ]
  },
  {
   "cell_type": "code",
   "execution_count": 80,
   "metadata": {},
   "outputs": [
    {
     "data": {
      "text/plain": [
       "(array([ 0,  1,  2,  3,  4,  5,  6,  7,  8,  9, 10, 11, 12, 13, 14]),\n",
       " <a list of 15 Text xticklabel objects>)"
      ]
     },
     "execution_count": 80,
     "metadata": {},
     "output_type": "execute_result"
    },
    {
     "data": {
      "image/png": "[encoded data removed]",
      "text/plain": [
       "<Figure size 432x288 with 1 Axes>"
      ]
     },
     "metadata": {
      "needs_background": "light"
     },
     "output_type": "display_data"
    }
   ],
   "source": [
    "country_suicides = data[['country','suicides_no']].groupby(['country']).sum()\n",
    "country_suicides = country_suicides.reset_index().sort_values(by='suicides_no', ascending=False)\n",
    "top15 = country_suicides[:15]\n",
    "sns.barplot(x='country', y='suicides_no', data=top15).set_title('countries with most suicides')\n",
    "plt.xticks(rotation=90)"
   ]
  },
  {
   "cell_type": "markdown",
   "metadata": {},
   "source": [
    "### Top 15 countries with least suicides"
   ]
  },
  {
   "cell_type": "code",
   "execution_count": 81,
   "metadata": {},
   "outputs": [
    {
     "data": {
      "text/plain": [
       "(array([ 0,  1,  2,  3,  4,  5,  6,  7,  8,  9, 10, 11, 12, 13, 14]),\n",
       " <a list of 15 Text xticklabel objects>)"
      ]
     },
     "execution_count": 81,
     "metadata": {},
     "output_type": "execute_result"
    },
    {
     "data": {
      "image/png": "[encoded data removed]",
      "text/plain": [
       "<Figure size 432x288 with 1 Axes>"
      ]
     },
     "metadata": {
      "needs_background": "light"
     },
     "output_type": "display_data"
    }
   ],
   "source": [
    "bottom15 = country_suicides[-15:]\n",
    "sns.barplot(x='country', y='suicides_no', data=bottom15).set_title('countries with least suicides')\n",
    "plt.xticks(rotation=90)\n"
   ]
  },
  {
   "cell_type": "code",
   "execution_count": 82,
   "metadata": {},
   "outputs": [
    {
     "data": {
      "image/png": "[encoded data removed]",
      "text/plain": [
       "<Figure size 1152x432 with 1 Axes>"
      ]
     },
     "metadata": {
      "needs_background": "light"
     },
     "output_type": "display_data"
    }
   ],
   "source": [
    "# Suicides number by year\n",
    "f,ax = plt.subplots(1,1,figsize=(16,6))\n",
    "ax = sns.barplot(x = data['year'], y = 'suicides_no',\n",
    "                data=data, palette='Spectral')"
   ]
  },
  {
   "cell_type": "markdown",
   "metadata": {},
   "source": [
    "### Suicides by year distribution"
   ]
  },
  {
   "cell_type": "code",
   "execution_count": 83,
   "metadata": {},
   "outputs": [
    {
     "data": {
      "text/plain": [
       "<matplotlib.axes._subplots.AxesSubplot at 0x1a4a554d0c8>"
      ]
     },
     "execution_count": 83,
     "metadata": {},
     "output_type": "execute_result"
    },
    {
     "data": {
      "image/png": "[encoded data removed]",
      "text/plain": [
       "<Figure size 432x288 with 1 Axes>"
      ]
     },
     "metadata": {
      "needs_background": "light"
     },
     "output_type": "display_data"
    }
   ],
   "source": [
    "data[['year','suicides_no']].groupby(['year']).sum().plot()"
   ]
  },
  {
   "cell_type": "code",
   "execution_count": 84,
   "metadata": {},
   "outputs": [
    {
     "data": {
      "image/png": "[encoded data removed]",
      "text/plain": [
       "<Figure size 936x432 with 1 Axes>"
      ]
     },
     "metadata": {
      "needs_background": "light"
     },
     "output_type": "display_data"
    }
   ],
   "source": [
    "f,ax = plt.subplots(1,1,figsize=(13,6))\n",
    "ax = sns.barplot(x = data['generation'], y = 'suicides_no',\n",
    "                  hue='sex',data=data, palette='autumn')"
   ]
  },
  {
   "cell_type": "code",
   "execution_count": 85,
   "metadata": {},
   "outputs": [
    {
     "data": {
      "image/png": "[encoded data removed]",
      "text/plain": [
       "<Figure size 720x576 with 1 Axes>"
      ]
     },
     "metadata": {
      "needs_background": "light"
     },
     "output_type": "display_data"
    }
   ],
   "source": [
    "## Checking the relationship between gdp per capita and number of suicides\n",
    "f, ax = plt.subplots(1,1, figsize=(10,8))\n",
    "ax = sns.scatterplot(x=\"gdp_per_capita\", y=\"suicides_no\", data=data, color='yellow')"
   ]
  },
  {
   "cell_type": "code",
   "execution_count": 86,
   "metadata": {},
   "outputs": [
    {
     "data": {
      "image/png": "[encoded data removed]",
      "text/plain": [
       "<Figure size 1440x720 with 1 Axes>"
      ]
     },
     "metadata": {
      "needs_background": "light"
     },
     "output_type": "display_data"
    }
   ],
   "source": [
    "data_gdp = (data['gdp_per_capita'].groupby(data.year)).sum()\n",
    "data_gdp.plot(figsize=(20,10), linewidth=2, fontsize=15,color='red')\n",
    "plt.xlabel('Year', fontsize=15)\n",
    "plt.ylabel(' Total gdp_per_capita ($)',fontsize=15)\n",
    "plt.show()"
   ]
  },
  {
   "cell_type": "code",
   "execution_count": 87,
   "metadata": {},
   "outputs": [
    {
     "data": {
      "image/png": "[encoded data removed]",
      "text/plain": [
       "<Figure size 720x576 with 1 Axes>"
      ]
     },
     "metadata": {
      "needs_background": "light"
     },
     "output_type": "display_data"
    }
   ],
   "source": [
    "## Checking the relationship between Hdi and number of suicides\n",
    "f, ax = plt.subplots(1,1, figsize=(10,8))\n",
    "ax = sns.scatterplot(x=\"HDI\", y=\"suicides_no\", data=data, color='cyan')"
   ]
  },
  {
   "cell_type": "markdown",
   "metadata": {},
   "source": [
    "### Correlation"
   ]
  },
  {
   "cell_type": "code",
   "execution_count": 88,
   "metadata": {},
   "outputs": [
    {
     "data": {
      "image/png": "[encoded data removed]",
      "text/plain": [
       "<Figure size 432x288 with 2 Axes>"
      ]
     },
     "metadata": {
      "needs_background": "light"
     },
     "output_type": "display_data"
    }
   ],
   "source": [
    "_ = sns.heatmap(data.corr(), annot=True)"
   ]
  },
  {
   "cell_type": "markdown",
   "metadata": {},
   "source": [
    "## Machine Learning Algorithms"
   ]
  },
  {
   "cell_type": "markdown",
   "metadata": {},
   "source": [
    "## Linear Regression"
   ]
  },
  {
   "cell_type": "code",
   "execution_count": 89,
   "metadata": {},
   "outputs": [],
   "source": [
    "X = data[['country', 'sex', 'population', 'age', 'gdp_per_capita', 'generation']]\n",
    "y = data['suicides_K']"
   ]
  },
  {
   "cell_type": "code",
   "execution_count": 90,
   "metadata": {},
   "outputs": [],
   "source": [
    "#Transforming the categorical variables to dummy variables\n",
    "X = pd.get_dummies(X, drop_first=True)"
   ]
  },
  {
   "cell_type": "code",
   "execution_count": 91,
   "metadata": {},
   "outputs": [
    {
     "name": "stderr",
     "output_type": "stream",
     "text": [
      "C:\\Users\\Pegah Khazaie\\AppData\\Local\\Continuum\\anaconda3\\lib\\importlib\\_bootstrap.py:219: RuntimeWarning: numpy.ufunc size changed, may indicate binary incompatibility. Expected 192 from C header, got 216 from PyObject\n",
      "  return f(*args, **kwds)\n",
      "C:\\Users\\Pegah Khazaie\\AppData\\Local\\Continuum\\anaconda3\\lib\\importlib\\_bootstrap.py:219: RuntimeWarning: numpy.ufunc size changed, may indicate binary incompatibility. Expected 192 from C header, got 216 from PyObject\n",
      "  return f(*args, **kwds)\n"
     ]
    }
   ],
   "source": [
    "#Importing needed package for scaling\n",
    "from sklearn.preprocessing import StandardScaler "
   ]
  },
  {
   "cell_type": "code",
   "execution_count": 92,
   "metadata": {},
   "outputs": [],
   "source": [
    "#Scaling our data \n",
    "sc = StandardScaler()\n",
    "X[['population','gdp_per_capita']] = sc.fit_transform(X[['population','gdp_per_capita']])"
   ]
  },
  {
   "cell_type": "code",
   "execution_count": 93,
   "metadata": {},
   "outputs": [
    {
     "name": "stderr",
     "output_type": "stream",
     "text": [
      "C:\\Users\\Pegah Khazaie\\AppData\\Local\\Continuum\\anaconda3\\lib\\importlib\\_bootstrap.py:219: RuntimeWarning: numpy.ufunc size changed, may indicate binary incompatibility. Expected 192 from C header, got 216 from PyObject\n",
      "  return f(*args, **kwds)\n"
     ]
    }
   ],
   "source": [
    "#Importing needed package for splitting the dataset\n",
    "from sklearn.model_selection import train_test_split"
   ]
  },
  {
   "cell_type": "code",
   "execution_count": 94,
   "metadata": {},
   "outputs": [],
   "source": [
    "#Splitting the dataset \n",
    "X_train, X_test, y_train, y_test = train_test_split(X, y, test_size=.2)"
   ]
  },
  {
   "cell_type": "code",
   "execution_count": 95,
   "metadata": {},
   "outputs": [],
   "source": [
    "#Importing the Linear Regression algorithm \n",
    "from sklearn.linear_model import LinearRegression"
   ]
  },
  {
   "cell_type": "code",
   "execution_count": 96,
   "metadata": {},
   "outputs": [
    {
     "data": {
      "text/plain": [
       "LinearRegression(copy_X=True, fit_intercept=True, n_jobs=None, normalize=False)"
      ]
     },
     "execution_count": 96,
     "metadata": {},
     "output_type": "execute_result"
    }
   ],
   "source": [
    "#Initializing our Linear Regression\n",
    "lr = LinearRegression()\n",
    "lr.fit(X_train, y_train)"
   ]
  },
  {
   "cell_type": "code",
   "execution_count": 97,
   "metadata": {},
   "outputs": [],
   "source": [
    "lr_y_pred = lr.predict(X_test)"
   ]
  },
  {
   "cell_type": "code",
   "execution_count": 98,
   "metadata": {},
   "outputs": [
    {
     "data": {
      "image/png": "[encoded data removed]",
      "text/plain": [
       "<Figure size 864x288 with 1 Axes>"
      ]
     },
     "metadata": {
      "needs_background": "light"
     },
     "output_type": "display_data"
    }
   ],
   "source": [
    "fig, ax = plt.subplots(figsize=(12,4))\n",
    "sns.scatterplot(lr_y_pred, y_test, ax=ax, color=sns.husl_palette(10)[0])\n",
    "sns.lineplot([0, 175], [0, 175], color=sns.husl_palette(10)[5], ax=ax)\n",
    "plt.xlabel('Actual values')\n",
    "plt.ylabel('Predicted values')\n",
    "plt.title('Prediction evaluation (Linear Regression)', size=15)\n",
    "plt.show()"
   ]
  },
  {
   "cell_type": "code",
   "execution_count": 99,
   "metadata": {},
   "outputs": [
    {
     "name": "stderr",
     "output_type": "stream",
     "text": [
      "C:\\Users\\Pegah Khazaie\\AppData\\Local\\Continuum\\anaconda3\\lib\\importlib\\_bootstrap.py:219: RuntimeWarning: numpy.ufunc size changed, may indicate binary incompatibility. Expected 192 from C header, got 216 from PyObject\n",
      "  return f(*args, **kwds)\n",
      "C:\\Users\\Pegah Khazaie\\AppData\\Local\\Continuum\\anaconda3\\lib\\importlib\\_bootstrap.py:219: RuntimeWarning: numpy.ufunc size changed, may indicate binary incompatibility. Expected 192 from C header, got 216 from PyObject\n",
      "  return f(*args, **kwds)\n"
     ]
    }
   ],
   "source": [
    "#Importing the Decision Tree algorithm \n",
    "from sklearn.tree import DecisionTreeRegressor"
   ]
  },
  {
   "cell_type": "code",
   "execution_count": 100,
   "metadata": {},
   "outputs": [
    {
     "data": {
      "text/plain": [
       "DecisionTreeRegressor(ccp_alpha=0.0, criterion='mse', max_depth=None,\n",
       "                      max_features=None, max_leaf_nodes=None,\n",
       "                      min_impurity_decrease=0.0, min_impurity_split=None,\n",
       "                      min_samples_leaf=1, min_samples_split=2,\n",
       "                      min_weight_fraction_leaf=0.0, presort='deprecated',\n",
       "                      random_state=None, splitter='best')"
      ]
     },
     "execution_count": 100,
     "metadata": {},
     "output_type": "execute_result"
    }
   ],
   "source": [
    "#Initializing our Decision Tree\n",
    "dt = DecisionTreeRegressor()\n",
    "dt.fit(X_train, y_train)"
   ]
  },
  {
   "cell_type": "code",
   "execution_count": 101,
   "metadata": {},
   "outputs": [],
   "source": [
    "#Predicting the test values\n",
    "dt_y_pred = dt.predict(X_test)"
   ]
  },
  {
   "cell_type": "code",
   "execution_count": 102,
   "metadata": {},
   "outputs": [
    {
     "data": {
      "image/png": "[encoded data removed]",
      "text/plain": [
       "<Figure size 864x288 with 1 Axes>"
      ]
     },
     "metadata": {
      "needs_background": "light"
     },
     "output_type": "display_data"
    }
   ],
   "source": [
    "#Plotting the results\n",
    "fig, ax = plt.subplots(figsize=(12,4))\n",
    "sns.scatterplot(dt_y_pred, y_test, ax=ax, color=sns.husl_palette(10)[0])\n",
    "sns.lineplot([0, 175], [0, 175], color=sns.husl_palette(10)[5], ax=ax)\n",
    "plt.xlabel('Actual values')\n",
    "plt.ylabel('Predicted values')\n",
    "plt.title('Prediction evaluation (Decision Tree)', size=15)\n",
    "plt.show()"
   ]
  },
  {
   "cell_type": "markdown",
   "metadata": {},
   "source": [
    "### Decision Tree Classifier"
   ]
  },
  {
   "cell_type": "code",
   "execution_count": 103,
   "metadata": {},
   "outputs": [
    {
     "name": "stdout",
     "output_type": "stream",
     "text": [
      "0    0\n",
      "1    0\n",
      "2    0\n",
      "3    0\n",
      "4    0\n",
      "Name: generation, dtype: object\n",
      "0    0\n",
      "1    0\n",
      "2    0\n",
      "3    0\n",
      "4    0\n",
      "Name: sex, dtype: object\n",
      "0    395077301248\n",
      "1    395531066563\n",
      "2    306602673980\n",
      "3    259708496267\n",
      "4    195905767669\n",
      "Name: gdp_for_year, dtype: object\n"
     ]
    }
   ],
   "source": [
    "data['generation']=data['generation'].str.replace('Boomers','0')\n",
    "data['generation']=data['generation'].str.replace('G.I. Generation','3')\n",
    "data['generation']=data['generation'].str.replace('Generation X','1')\n",
    "data['generation']=data['generation'].str.replace('Generation Z','2')\n",
    "data['generation']=data['generation'].str.replace('Millenials','4')\n",
    "data['generation']=data['generation'].str.replace('Silent','5')\n",
    "data['gdp_for_year']=data['gdp_for_year'].str.replace(',','')\n",
    "data['sex']=data['sex'].str.replace('female', '1')\n",
    "data['sex']=data['sex'].str.replace('male', '0')\n",
    "pd.to_numeric(data['generation'])\n",
    "pd.to_numeric(data['sex'])\n",
    "pd.to_numeric(data['gdp_for_year'])\n",
    "print(data['generation'][:5])\n",
    "print(data['sex'][:5])\n",
    "print(data['gdp_for_year'][:5])"
   ]
  },
  {
   "cell_type": "code",
   "execution_count": 104,
   "metadata": {},
   "outputs": [],
   "source": [
    "from sklearn.preprocessing import LabelEncoder\n",
    "\n",
    "le = LabelEncoder()\n",
    "\n",
    "data.country = le.fit_transform(data.country)"
   ]
  },
  {
   "cell_type": "code",
   "execution_count": 105,
   "metadata": {},
   "outputs": [],
   "source": [
    "from sklearn.preprocessing import LabelEncoder\n",
    "\n",
    "le = LabelEncoder()\n",
    "\n",
    "data.age = le.fit_transform(data.age)"
   ]
  },
  {
   "cell_type": "code",
   "execution_count": 106,
   "metadata": {},
   "outputs": [],
   "source": [
    "data['fatality_rate']=np.where(data['suicides_K']>data['suicides_K'].mean(), 1, 0)"
   ]
  },
  {
   "cell_type": "code",
   "execution_count": 107,
   "metadata": {},
   "outputs": [],
   "source": [
    "X = np.array(data.drop(['fatality_rate', 'suicides_K'], 1))\n",
    "y = np.array(data.fatality_rate)\n"
   ]
  },
  {
   "cell_type": "code",
   "execution_count": 108,
   "metadata": {},
   "outputs": [],
   "source": [
    "X_train, X_test, y_train, y_test = train_test_split(X, y, test_size=0.20, random_state=42)"
   ]
  },
  {
   "cell_type": "code",
   "execution_count": 109,
   "metadata": {},
   "outputs": [],
   "source": [
    "from sklearn.tree import DecisionTreeClassifier\n",
    "from sklearn.metrics import accuracy_score\n",
    "from sklearn.metrics import confusion_matrix, classification_report\n",
    "\n",
    "\n",
    "DT = DecisionTreeClassifier(criterion=\"entropy\", max_depth=7, max_leaf_nodes=30)\n",
    "DT = DT.fit(X_train, y_train)\n",
    "ydthat = DT.predict(X_test)"
   ]
  },
  {
   "cell_type": "code",
   "execution_count": 110,
   "metadata": {},
   "outputs": [
    {
     "name": "stdout",
     "output_type": "stream",
     "text": [
      "Accuracy = 0.902588066139468\n",
      "Train Accuracy= 0.9109004313443566\n"
     ]
    }
   ],
   "source": [
    "print('Accuracy =', DT.score(X_test, y_test))\n",
    "print('Train Accuracy=', DT.score(X_train, y_train))"
   ]
  },
  {
   "cell_type": "markdown",
   "metadata": {},
   "source": [
    "### Random Forest Classifier"
   ]
  },
  {
   "cell_type": "code",
   "execution_count": 111,
   "metadata": {},
   "outputs": [
    {
     "name": "stderr",
     "output_type": "stream",
     "text": [
      "C:\\Users\\Pegah Khazaie\\AppData\\Local\\Continuum\\anaconda3\\lib\\importlib\\_bootstrap.py:219: RuntimeWarning: numpy.ufunc size changed, may indicate binary incompatibility. Expected 192 from C header, got 216 from PyObject\n",
      "  return f(*args, **kwds)\n"
     ]
    }
   ],
   "source": [
    "from sklearn.ensemble import RandomForestRegressor\n",
    "from sklearn import metrics\n",
    "from sklearn.metrics import mean_absolute_error"
   ]
  },
  {
   "cell_type": "code",
   "execution_count": 112,
   "metadata": {},
   "outputs": [],
   "source": [
    "train_x, test_x, train_y, test_y = train_test_split(X,y, test_size = 0.3)"
   ]
  },
  {
   "cell_type": "code",
   "execution_count": 113,
   "metadata": {},
   "outputs": [],
   "source": [
    "model = RandomForestRegressor(n_estimators=100, random_state=42)\n",
    "model.fit(train_x, train_y)\n",
    "pred_y = model.predict(test_x)"
   ]
  },
  {
   "cell_type": "code",
   "execution_count": 114,
   "metadata": {},
   "outputs": [
    {
     "name": "stdout",
     "output_type": "stream",
     "text": [
      "R2 Score: 0.9678024592831789\n"
     ]
    }
   ],
   "source": [
    "print('R2 Score:', metrics.r2_score(test_y, pred_y))"
   ]
  },
  {
   "cell_type": "code",
   "execution_count": 115,
   "metadata": {},
   "outputs": [
    {
     "data": {
      "text/plain": [
       "0.9678024592831789"
      ]
     },
     "execution_count": 115,
     "metadata": {},
     "output_type": "execute_result"
    }
   ],
   "source": [
    "metrics.r2_score(test_y, pred_y)"
   ]
  },
  {
   "cell_type": "code",
   "execution_count": null,
   "metadata": {},
   "outputs": [],
   "source": []
  }
 ],
 "metadata": {
  "kernelspec": {
   "display_name": "Python 3",
   "language": "python",
   "name": "python3"
  },
  "language_info": {
   "codemirror_mode": {
    "name": "ipython",
    "version": 3
   },
   "file_extension": ".py",
   "mimetype": "text/x-python",
   "name": "python",
   "nbconvert_exporter": "python",
   "pygments_lexer": "ipython3",
   "version": "3.7.4"
  },
  "toc": {
   "base_numbering": 1,
   "nav_menu": {},
   "number_sections": false,
   "sideBar": true,
   "skip_h1_title": false,
   "title_cell": "Table of Contents",
   "title_sidebar": "Contents",
   "toc_cell": false,
   "toc_position": {},
   "toc_section_display": true,
   "toc_window_display": false
  }
 },
 "nbformat": 4,
 "nbformat_minor": 2
}
